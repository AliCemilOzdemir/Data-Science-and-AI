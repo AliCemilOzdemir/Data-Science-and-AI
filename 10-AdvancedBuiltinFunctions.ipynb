{
 "cells": [
  {
   "cell_type": "code",
   "execution_count": 1,
   "id": "b057c773-741d-4bea-9177-fed09df95c92",
   "metadata": {},
   "outputs": [],
   "source": [
    "my_list = [10,20,30,40,50,60,70]"
   ]
  },
  {
   "cell_type": "code",
   "execution_count": 3,
   "id": "9eafdfd2-8b97-4e85-b953-c51ffadb2682",
   "metadata": {},
   "outputs": [
    {
     "name": "stdout",
     "output_type": "stream",
     "text": [
      "5.0\n",
      "10.0\n",
      "15.0\n",
      "20.0\n",
      "25.0\n",
      "30.0\n",
      "35.0\n"
     ]
    }
   ],
   "source": [
    "for num in my_list:\n",
    "    print(num/2)"
   ]
  },
  {
   "cell_type": "markdown",
   "id": "e03d8729-7c07-4da6-b8c7-da350e19339a",
   "metadata": {},
   "source": [
    "### range"
   ]
  },
  {
   "cell_type": "code",
   "execution_count": 4,
   "id": "27309399-00f4-415b-90a2-678ca39300bf",
   "metadata": {},
   "outputs": [
    {
     "data": {
      "text/plain": [
       "range(0, 50)"
      ]
     },
     "execution_count": 4,
     "metadata": {},
     "output_type": "execute_result"
    }
   ],
   "source": [
    "range(50)"
   ]
  },
  {
   "cell_type": "code",
   "execution_count": 6,
   "id": "b17e3f57-1086-4e6b-a2f8-c3f2e6966e7a",
   "metadata": {},
   "outputs": [
    {
     "data": {
      "text/plain": [
       "[0, 1, 2, 3, 4, 5, 6, 7, 8, 9]"
      ]
     },
     "execution_count": 6,
     "metadata": {},
     "output_type": "execute_result"
    }
   ],
   "source": [
    "list(range(10))"
   ]
  },
  {
   "cell_type": "code",
   "execution_count": 7,
   "id": "6193b3e2-69c8-4722-a21d-3fce5ce16bc6",
   "metadata": {},
   "outputs": [
    {
     "name": "stdout",
     "output_type": "stream",
     "text": [
      "0\n",
      "2\n",
      "4\n",
      "6\n",
      "8\n",
      "10\n",
      "12\n",
      "14\n",
      "16\n",
      "18\n",
      "20\n",
      "22\n",
      "24\n",
      "26\n",
      "28\n",
      "30\n",
      "32\n",
      "34\n",
      "36\n",
      "38\n"
     ]
    }
   ],
   "source": [
    "for num in list(range(20)):\n",
    "    print(num *2)"
   ]
  },
  {
   "cell_type": "code",
   "execution_count": 8,
   "id": "857167ff-f209-4976-bd51-714e0d67f45b",
   "metadata": {},
   "outputs": [
    {
     "data": {
      "text/plain": [
       "[5, 6, 7, 8, 9, 10, 11, 12, 13, 14, 15, 16, 17, 18, 19, 20, 21, 22, 23, 24]"
      ]
     },
     "execution_count": 8,
     "metadata": {},
     "output_type": "execute_result"
    }
   ],
   "source": [
    "list(range(5,25))"
   ]
  },
  {
   "cell_type": "code",
   "execution_count": 9,
   "id": "e5dcab25-8baa-408c-8078-034a0dbbdd52",
   "metadata": {},
   "outputs": [
    {
     "data": {
      "text/plain": [
       "[5, 7, 9, 11, 13, 15, 17, 19, 21, 23]"
      ]
     },
     "execution_count": 9,
     "metadata": {},
     "output_type": "execute_result"
    }
   ],
   "source": [
    "list(range(5,25,2))"
   ]
  },
  {
   "cell_type": "code",
   "execution_count": 10,
   "id": "914f2f52-5e5b-4b6f-9f2c-97c5b4852328",
   "metadata": {},
   "outputs": [],
   "source": [
    "my_list = [20,30,40,50,60]"
   ]
  },
  {
   "cell_type": "code",
   "execution_count": 11,
   "id": "d450c8e6-8a70-465c-8cc0-1ed55c72e265",
   "metadata": {},
   "outputs": [
    {
     "name": "stdout",
     "output_type": "stream",
     "text": [
      "20\n",
      "30\n",
      "40\n",
      "50\n",
      "60\n"
     ]
    }
   ],
   "source": [
    "for n in my_list:\n",
    "    print(n)"
   ]
  },
  {
   "cell_type": "code",
   "execution_count": 14,
   "id": "26e42d84-5715-4686-a7e0-8062a35250a8",
   "metadata": {},
   "outputs": [
    {
     "name": "stdout",
     "output_type": "stream",
     "text": [
      "20\n",
      "30\n",
      "40\n",
      "50\n",
      "60\n"
     ]
    }
   ],
   "source": [
    "for ix in range(len(my_list)) : \n",
    "    print(my_list[ix])"
   ]
  },
  {
   "cell_type": "code",
   "execution_count": 15,
   "id": "8cb77e14-b310-4893-a0be-39dff689f4c5",
   "metadata": {},
   "outputs": [
    {
     "name": "stdout",
     "output_type": "stream",
     "text": [
      "(0, 20)\n",
      "(1, 30)\n",
      "(2, 40)\n",
      "(3, 50)\n",
      "(4, 60)\n"
     ]
    }
   ],
   "source": [
    "for e in enumerate(my_list):\n",
    "    print(e)"
   ]
  },
  {
   "cell_type": "code",
   "execution_count": 16,
   "id": "09c1b1b0-d39f-4d0c-a62d-352d62ce477f",
   "metadata": {},
   "outputs": [
    {
     "name": "stdout",
     "output_type": "stream",
     "text": [
      "0 20\n",
      "1 30\n",
      "2 40\n",
      "3 50\n",
      "4 60\n"
     ]
    }
   ],
   "source": [
    "for ix,vl in enumerate(my_list):\n",
    "    print(ix,vl)"
   ]
  },
  {
   "cell_type": "markdown",
   "id": "b55b51bc-1c5e-45c8-b8c0-2a4d1102fa65",
   "metadata": {},
   "source": [
    "### random"
   ]
  },
  {
   "cell_type": "code",
   "execution_count": 18,
   "id": "09936af3-07d5-427c-8617-e3faab53206b",
   "metadata": {},
   "outputs": [],
   "source": [
    "from random import randint"
   ]
  },
  {
   "cell_type": "code",
   "execution_count": 19,
   "id": "0b16284e-c3ef-4dca-a2ba-554cf67ef749",
   "metadata": {},
   "outputs": [
    {
     "data": {
      "text/plain": [
       "94"
      ]
     },
     "execution_count": 19,
     "metadata": {},
     "output_type": "execute_result"
    }
   ],
   "source": [
    "randint(0,100)"
   ]
  },
  {
   "cell_type": "code",
   "execution_count": 20,
   "id": "9aa7e399-a7b1-4f52-91f2-09f6c330fc53",
   "metadata": {},
   "outputs": [],
   "source": [
    "from random import shuffle"
   ]
  },
  {
   "cell_type": "code",
   "execution_count": 27,
   "id": "a571b916-4e3c-45c9-b40d-a5f81d9d3fb7",
   "metadata": {},
   "outputs": [],
   "source": [
    "shuffle(my_list)"
   ]
  },
  {
   "cell_type": "code",
   "execution_count": 28,
   "id": "8b2e5044-75cc-4c5b-8218-7b0c83e54fce",
   "metadata": {},
   "outputs": [
    {
     "data": {
      "text/plain": [
       "[20, 50, 40, 30, 60]"
      ]
     },
     "execution_count": 28,
     "metadata": {},
     "output_type": "execute_result"
    }
   ],
   "source": [
    "my_list"
   ]
  },
  {
   "cell_type": "code",
   "execution_count": 29,
   "id": "401931bd-88e8-4884-ab05-03d9fa8ddbd4",
   "metadata": {},
   "outputs": [],
   "source": [
    "my_list = [10,20,30,40,50,60,70]"
   ]
  },
  {
   "cell_type": "code",
   "execution_count": 40,
   "id": "f21a8ae1-219d-4332-b28e-608229ed0072",
   "metadata": {},
   "outputs": [
    {
     "data": {
      "text/plain": [
       "50"
      ]
     },
     "execution_count": 40,
     "metadata": {},
     "output_type": "execute_result"
    }
   ],
   "source": [
    "my_list[randint(0,len(my_list)-1)]"
   ]
  },
  {
   "cell_type": "code",
   "execution_count": 41,
   "id": "0cd146b8-12bc-49b6-b13a-38eed1394f89",
   "metadata": {},
   "outputs": [],
   "source": [
    "# zip"
   ]
  },
  {
   "cell_type": "code",
   "execution_count": 42,
   "id": "7fed55bf-4a0a-4de4-a2b9-80c3842db66f",
   "metadata": {},
   "outputs": [],
   "source": [
    "food_list = [\"apple\", \"banana\", \"melon\"]"
   ]
  },
  {
   "cell_type": "code",
   "execution_count": 43,
   "id": "0dd41fe7-ccc7-466c-80c9-0a3ca96767b6",
   "metadata": {},
   "outputs": [],
   "source": [
    "calories_list = [100, 150, 200]"
   ]
  },
  {
   "cell_type": "code",
   "execution_count": 44,
   "id": "25bb5d4f-5532-429f-8aad-eeb37894027e",
   "metadata": {},
   "outputs": [],
   "source": [
    "day_list = [\"monday\", \"tuesday\",\"wednesday\"]"
   ]
  },
  {
   "cell_type": "code",
   "execution_count": 45,
   "id": "d40424c1-98ff-447b-8664-e8920231ab7f",
   "metadata": {},
   "outputs": [
    {
     "data": {
      "text/plain": [
       "[('monday', 'apple', 100),\n",
       " ('tuesday', 'banana', 150),\n",
       " ('wednesday', 'melon', 200)]"
      ]
     },
     "execution_count": 45,
     "metadata": {},
     "output_type": "execute_result"
    }
   ],
   "source": [
    "zipped_list = list(zip(day_list,food_list,calories_list))\n",
    "zipped_list"
   ]
  },
  {
   "cell_type": "code",
   "execution_count": 50,
   "id": "59186ad1-e2bc-4946-b1e1-b833a842c1a4",
   "metadata": {},
   "outputs": [
    {
     "data": {
      "text/plain": [
       "['m', 'e', 't', 'a', 'l', 'l', 'i', 'c', 'a']"
      ]
     },
     "execution_count": 50,
     "metadata": {},
     "output_type": "execute_result"
    }
   ],
   "source": [
    "new_list = []\n",
    "my_string = \"metallica\"\n",
    "\n",
    "for elements in my_string:\n",
    "    new_list.append(elements)\n",
    "\n",
    "new_list"
   ]
  },
  {
   "cell_type": "code",
   "execution_count": 51,
   "id": "76461810-0730-4611-80d7-9b4f17cda2eb",
   "metadata": {},
   "outputs": [],
   "source": [
    "# list comprehension"
   ]
  },
  {
   "cell_type": "code",
   "execution_count": 52,
   "id": "f6ace531-cf3e-4b8f-a61f-7bc8aa54c6c4",
   "metadata": {},
   "outputs": [],
   "source": [
    "new_list = [element for element in my_string]"
   ]
  },
  {
   "cell_type": "code",
   "execution_count": 53,
   "id": "19b25765-e619-485f-a28b-ea39c3c0385f",
   "metadata": {},
   "outputs": [
    {
     "data": {
      "text/plain": [
       "['m', 'e', 't', 'a', 'l', 'l', 'i', 'c', 'a']"
      ]
     },
     "execution_count": 53,
     "metadata": {},
     "output_type": "execute_result"
    }
   ],
   "source": [
    "new_list"
   ]
  },
  {
   "cell_type": "code",
   "execution_count": 60,
   "id": "b547f537-9780-4968-b78f-b9c2466a3b83",
   "metadata": {},
   "outputs": [
    {
     "data": {
      "text/plain": [
       "[]"
      ]
     },
     "execution_count": 60,
     "metadata": {},
     "output_type": "execute_result"
    }
   ],
   "source": [
    "number_list = [10,20,30,40,50,60]\n",
    "new_number_list = [num/2 for num in number_list if (num+1) % 2 == 0]\n",
    "new_number_list"
   ]
  },
  {
   "cell_type": "code",
   "execution_count": null,
   "id": "fca7d06b-a1fb-4827-8088-0d25da6bdf9e",
   "metadata": {},
   "outputs": [],
   "source": []
  }
 ],
 "metadata": {
  "kernelspec": {
   "display_name": "Python [conda env:base] *",
   "language": "python",
   "name": "conda-base-py"
  },
  "language_info": {
   "codemirror_mode": {
    "name": "ipython",
    "version": 3
   },
   "file_extension": ".py",
   "mimetype": "text/x-python",
   "name": "python",
   "nbconvert_exporter": "python",
   "pygments_lexer": "ipython3",
   "version": "3.11.7"
  }
 },
 "nbformat": 4,
 "nbformat_minor": 5
}
