{
 "cells": [
  {
   "cell_type": "markdown",
   "id": "cff60103-61a4-4d70-946a-4fabd546071b",
   "metadata": {},
   "source": [
    "### Method vs function"
   ]
  },
  {
   "cell_type": "code",
   "execution_count": 1,
   "id": "62c53d8a-8a4f-4929-82bf-9a2dffa4a1c8",
   "metadata": {},
   "outputs": [],
   "source": [
    "my_name = \"ali\""
   ]
  },
  {
   "cell_type": "code",
   "execution_count": 2,
   "id": "b6db50c1-99fc-4cf0-ab9d-9782a0f8e51b",
   "metadata": {},
   "outputs": [
    {
     "data": {
      "text/plain": [
       "'ALI'"
      ]
     },
     "execution_count": 2,
     "metadata": {},
     "output_type": "execute_result"
    }
   ],
   "source": [
    "my_name.upper()"
   ]
  },
  {
   "cell_type": "code",
   "execution_count": 3,
   "id": "66c59753-617b-401a-b011-32914e05967e",
   "metadata": {},
   "outputs": [],
   "source": [
    "my_name_upper = my_name.upper()"
   ]
  },
  {
   "cell_type": "code",
   "execution_count": 4,
   "id": "e6f2e26b-c2c8-41c7-9ca7-7eb44d4a1c65",
   "metadata": {},
   "outputs": [
    {
     "data": {
      "text/plain": [
       "'ALI'"
      ]
     },
     "execution_count": 4,
     "metadata": {},
     "output_type": "execute_result"
    }
   ],
   "source": [
    "my_name_upper"
   ]
  },
  {
   "cell_type": "code",
   "execution_count": 7,
   "id": "8d7789b0-5b70-4536-9d68-df8b2e854a97",
   "metadata": {},
   "outputs": [
    {
     "name": "stdout",
     "output_type": "stream",
     "text": [
      "Help on built-in function upper:\n",
      "\n",
      "upper() method of builtins.str instance\n",
      "    Return a copy of the string converted to uppercase.\n",
      "\n"
     ]
    }
   ],
   "source": [
    "help(my_name.upper)"
   ]
  },
  {
   "cell_type": "code",
   "execution_count": 8,
   "id": "3b0202de-600f-442b-9dbe-3c38e2faae49",
   "metadata": {},
   "outputs": [],
   "source": [
    "# functions"
   ]
  },
  {
   "cell_type": "code",
   "execution_count": 9,
   "id": "f22cf7b4-ed9e-4046-a6e3-598ef5ef72eb",
   "metadata": {},
   "outputs": [],
   "source": [
    "def hello_python() :\n",
    "    print(\"hello\")\n",
    "    print(\"python\")"
   ]
  },
  {
   "cell_type": "code",
   "execution_count": 10,
   "id": "ba0cf5ae-1a4b-402c-b4a9-0ad723511558",
   "metadata": {},
   "outputs": [
    {
     "data": {
      "text/plain": [
       "<function __main__.hello_python()>"
      ]
     },
     "execution_count": 10,
     "metadata": {},
     "output_type": "execute_result"
    }
   ],
   "source": [
    "hello_python"
   ]
  },
  {
   "cell_type": "code",
   "execution_count": 11,
   "id": "be81f6f3-a461-496d-8dad-9188db69801e",
   "metadata": {},
   "outputs": [
    {
     "name": "stdout",
     "output_type": "stream",
     "text": [
      "hello\n",
      "python\n"
     ]
    }
   ],
   "source": [
    "hello_python()"
   ]
  },
  {
   "cell_type": "code",
   "execution_count": 12,
   "id": "526af002-6bc5-4516-9327-636b9be32775",
   "metadata": {},
   "outputs": [],
   "source": [
    "# input"
   ]
  },
  {
   "cell_type": "code",
   "execution_count": 13,
   "id": "987de718-8ac9-41ce-b374-a18bb31c98b7",
   "metadata": {},
   "outputs": [],
   "source": [
    "def hello_name(name):\n",
    "    print(f\"hello {name}\")"
   ]
  },
  {
   "cell_type": "code",
   "execution_count": 15,
   "id": "9bb02bfe-877a-4189-b8b2-6ebc350c0e71",
   "metadata": {},
   "outputs": [
    {
     "name": "stdout",
     "output_type": "stream",
     "text": [
      "hello ali\n"
     ]
    }
   ],
   "source": [
    "hello_name(\"ali\")"
   ]
  },
  {
   "cell_type": "code",
   "execution_count": 16,
   "id": "ec4108bd-1e48-4fc3-8ee8-16448ac0aff7",
   "metadata": {},
   "outputs": [
    {
     "name": "stdout",
     "output_type": "stream",
     "text": [
      "hello java\n"
     ]
    }
   ],
   "source": [
    "hello_name(\"java\")"
   ]
  },
  {
   "cell_type": "code",
   "execution_count": 17,
   "id": "d821cf6e-4127-4ecb-9b3f-72822087ab75",
   "metadata": {},
   "outputs": [],
   "source": [
    "def sumEx(num1,num2):\n",
    "    print(num1+num2)"
   ]
  },
  {
   "cell_type": "code",
   "execution_count": 18,
   "id": "0d983a45-d7b9-4ff1-ba67-1eb2e0f8c653",
   "metadata": {},
   "outputs": [
    {
     "name": "stdout",
     "output_type": "stream",
     "text": [
      "12\n"
     ]
    }
   ],
   "source": [
    "sumEx(5,7)"
   ]
  },
  {
   "cell_type": "code",
   "execution_count": 19,
   "id": "578b82f2-e145-4f5d-b4f5-090f0be72509",
   "metadata": {},
   "outputs": [
    {
     "name": "stdout",
     "output_type": "stream",
     "text": [
      "32\n"
     ]
    }
   ],
   "source": [
    "sumEx(20,12)"
   ]
  },
  {
   "cell_type": "code",
   "execution_count": 20,
   "id": "afe93ed1-12f0-4270-9471-301df20c37d3",
   "metadata": {},
   "outputs": [],
   "source": [
    "def hello_surname(surname=\"ozdemir\"):\n",
    "    print(\"hello\",surname)"
   ]
  },
  {
   "cell_type": "code",
   "execution_count": 21,
   "id": "3e1cf5a7-8d61-48d1-bc84-0cf9d8b9c06c",
   "metadata": {},
   "outputs": [
    {
     "name": "stdout",
     "output_type": "stream",
     "text": [
      "hello ozdemir\n"
     ]
    }
   ],
   "source": [
    "hello_surname()"
   ]
  },
  {
   "cell_type": "code",
   "execution_count": 22,
   "id": "dd9c98e6-1cae-4760-9dae-1d56c2a649d8",
   "metadata": {},
   "outputs": [],
   "source": [
    "# return"
   ]
  },
  {
   "cell_type": "code",
   "execution_count": 23,
   "id": "a199ba80-7706-4e2f-8ae1-878c0eb74952",
   "metadata": {},
   "outputs": [],
   "source": [
    "def summation(n1,n2,n3):\n",
    "    print(n1+n2+n3)"
   ]
  },
  {
   "cell_type": "code",
   "execution_count": 24,
   "id": "5277b8bc-7a8d-4877-a7ea-f2d442b39be3",
   "metadata": {},
   "outputs": [
    {
     "name": "stdout",
     "output_type": "stream",
     "text": [
      "20\n"
     ]
    }
   ],
   "source": [
    "x = summation(10,2,8)"
   ]
  },
  {
   "cell_type": "code",
   "execution_count": 25,
   "id": "f4ef75f6-68db-4daf-8bb8-fa0e4657dd8f",
   "metadata": {},
   "outputs": [],
   "source": [
    "x"
   ]
  },
  {
   "cell_type": "code",
   "execution_count": 26,
   "id": "835ce506-8be1-4323-88e8-6b746fc08c01",
   "metadata": {},
   "outputs": [
    {
     "name": "stdout",
     "output_type": "stream",
     "text": [
      "None\n"
     ]
    }
   ],
   "source": [
    "print(x)"
   ]
  },
  {
   "cell_type": "code",
   "execution_count": 27,
   "id": "2e2626ea-e60c-4142-9062-6c3e48ab95cd",
   "metadata": {},
   "outputs": [],
   "source": [
    "x"
   ]
  },
  {
   "cell_type": "code",
   "execution_count": 28,
   "id": "9ead00f6-1c3b-4f1b-bf34-57b09be0329b",
   "metadata": {},
   "outputs": [
    {
     "data": {
      "text/plain": [
       "NoneType"
      ]
     },
     "execution_count": 28,
     "metadata": {},
     "output_type": "execute_result"
    }
   ],
   "source": [
    "type(x)"
   ]
  },
  {
   "cell_type": "code",
   "execution_count": 36,
   "id": "4948de16-b035-41fc-8e5b-01ac40a1e7b7",
   "metadata": {},
   "outputs": [],
   "source": [
    "def return_summation(n1,n2,n3):\n",
    "    print(n1+n2+n3)\n",
    "    return n1+n2+n3\n",
    "    print(\"bu yazilmaz\")"
   ]
  },
  {
   "cell_type": "code",
   "execution_count": 37,
   "id": "adb2352e-afe9-4391-842d-7346430ad7e9",
   "metadata": {},
   "outputs": [
    {
     "name": "stdout",
     "output_type": "stream",
     "text": [
      "20\n"
     ]
    },
    {
     "data": {
      "text/plain": [
       "20"
      ]
     },
     "execution_count": 37,
     "metadata": {},
     "output_type": "execute_result"
    }
   ],
   "source": [
    "x = return_summation(10,2,8)\n",
    "x"
   ]
  },
  {
   "cell_type": "code",
   "execution_count": 38,
   "id": "60c3a1e6-8e02-46f2-a439-2e9d33f5d8a3",
   "metadata": {},
   "outputs": [],
   "source": [
    "def control_string(s):\n",
    "    if s[0] == \"a\":\n",
    "        print(\"a\")"
   ]
  },
  {
   "cell_type": "code",
   "execution_count": 39,
   "id": "42a65e13-e399-4287-bddb-77bca0db6415",
   "metadata": {},
   "outputs": [
    {
     "name": "stdout",
     "output_type": "stream",
     "text": [
      "a\n"
     ]
    }
   ],
   "source": [
    "control_string(\"ali\")"
   ]
  },
  {
   "cell_type": "code",
   "execution_count": 40,
   "id": "4312291d-5ed3-433d-9c62-4a21829e9bc7",
   "metadata": {},
   "outputs": [],
   "source": [
    "control_string(\"james\")"
   ]
  },
  {
   "cell_type": "code",
   "execution_count": 41,
   "id": "c8b4c723-0102-4b76-8296-d041cdb65557",
   "metadata": {},
   "outputs": [],
   "source": [
    "# args,kwargs -> (arguments,key word arguments)"
   ]
  },
  {
   "cell_type": "code",
   "execution_count": 42,
   "id": "60bde0c3-1372-420b-a183-cf12a14e47ed",
   "metadata": {},
   "outputs": [],
   "source": [
    "def args_sum(*args):\n",
    "    print(args)\n",
    "    return sum(args)"
   ]
  },
  {
   "cell_type": "code",
   "execution_count": 43,
   "id": "5c472397-000e-4301-af13-24d79f3f7dfd",
   "metadata": {},
   "outputs": [
    {
     "name": "stdout",
     "output_type": "stream",
     "text": [
      "(10, 20, 30, 40, 50)\n"
     ]
    },
    {
     "data": {
      "text/plain": [
       "150"
      ]
     },
     "execution_count": 43,
     "metadata": {},
     "output_type": "execute_result"
    }
   ],
   "source": [
    "args_sum(10,20,30,40,50)"
   ]
  },
  {
   "cell_type": "code",
   "execution_count": 44,
   "id": "3baae105-2a05-48a5-b110-e2a0f109afc4",
   "metadata": {},
   "outputs": [],
   "source": [
    "def kwargs_example(**kwargs):\n",
    "    print(kwargs)"
   ]
  },
  {
   "cell_type": "code",
   "execution_count": 45,
   "id": "1c8b703f-6ef7-4031-9dea-efdb5369801f",
   "metadata": {},
   "outputs": [
    {
     "name": "stdout",
     "output_type": "stream",
     "text": [
      "{'apple': 100, 'banana': 150, 'melon': 200}\n"
     ]
    }
   ],
   "source": [
    "kwargs_example(apple = 100, banana = 150, melon = 200)"
   ]
  },
  {
   "cell_type": "code",
   "execution_count": 46,
   "id": "f276b107-7a95-42d4-afe5-0786737c741f",
   "metadata": {},
   "outputs": [],
   "source": [
    "def kwargs_example_2(**kwargs):\n",
    "    if \"apple\" in kwargs:\n",
    "        print(\"appleeeeee\")\n",
    "    else:\n",
    "        print(\":(\")"
   ]
  },
  {
   "cell_type": "code",
   "execution_count": 49,
   "id": "f4c3e6e1-ad3a-41a9-a310-fc36811eb2c7",
   "metadata": {},
   "outputs": [
    {
     "name": "stdout",
     "output_type": "stream",
     "text": [
      "appleeeeee\n"
     ]
    }
   ],
   "source": [
    "kwargs_example_2(apple = 150,banana = 100)"
   ]
  },
  {
   "cell_type": "code",
   "execution_count": null,
   "id": "51bf7cec-7d00-4723-aadf-2f67e9aa4a8d",
   "metadata": {},
   "outputs": [],
   "source": []
  }
 ],
 "metadata": {
  "kernelspec": {
   "display_name": "Python [conda env:base] *",
   "language": "python",
   "name": "conda-base-py"
  },
  "language_info": {
   "codemirror_mode": {
    "name": "ipython",
    "version": 3
   },
   "file_extension": ".py",
   "mimetype": "text/x-python",
   "name": "python",
   "nbconvert_exporter": "python",
   "pygments_lexer": "ipython3",
   "version": "3.11.7"
  }
 },
 "nbformat": 4,
 "nbformat_minor": 5
}
