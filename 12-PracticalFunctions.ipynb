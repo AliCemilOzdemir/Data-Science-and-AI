{
 "cells": [
  {
   "cell_type": "code",
   "execution_count": 1,
   "id": "32b975d3-c674-444b-97d9-01ebddf8bdfc",
   "metadata": {},
   "outputs": [],
   "source": [
    "def divideNumber(n):\n",
    "    return n/2"
   ]
  },
  {
   "cell_type": "code",
   "execution_count": 2,
   "id": "33c0ee7c-68d3-4570-872e-fef3cfa99da2",
   "metadata": {},
   "outputs": [
    {
     "data": {
      "text/plain": [
       "10.0"
      ]
     },
     "execution_count": 2,
     "metadata": {},
     "output_type": "execute_result"
    }
   ],
   "source": [
    "divideNumber(20)"
   ]
  },
  {
   "cell_type": "code",
   "execution_count": 3,
   "id": "1cf37b1f-c3fa-48ae-92f6-df6586409a4a",
   "metadata": {},
   "outputs": [],
   "source": [
    "myList = [1,5,7,10,20,30]"
   ]
  },
  {
   "cell_type": "code",
   "execution_count": 4,
   "id": "fb35d7d3-797f-4339-a32c-5d7165e01fdd",
   "metadata": {},
   "outputs": [
    {
     "data": {
      "text/plain": [
       "[0.5, 2.5, 3.5, 5.0, 10.0, 15.0]"
      ]
     },
     "execution_count": 4,
     "metadata": {},
     "output_type": "execute_result"
    }
   ],
   "source": [
    "myResultList = []\n",
    "for n in myList:\n",
    "    myResultList.append(n/2)\n",
    "myResultList"
   ]
  },
  {
   "cell_type": "markdown",
   "id": "b30be282-1fe3-40fc-bcdc-406248cea692",
   "metadata": {},
   "source": [
    "### map "
   ]
  },
  {
   "cell_type": "code",
   "execution_count": 5,
   "id": "64cdea36-72a1-4cda-8a83-460a6a5e9f26",
   "metadata": {},
   "outputs": [
    {
     "name": "stdout",
     "output_type": "stream",
     "text": [
      "Help on class map in module builtins:\n",
      "\n",
      "class map(object)\n",
      " |  map(func, *iterables) --> map object\n",
      " |  \n",
      " |  Make an iterator that computes the function using arguments from\n",
      " |  each of the iterables.  Stops when the shortest iterable is exhausted.\n",
      " |  \n",
      " |  Methods defined here:\n",
      " |  \n",
      " |  __getattribute__(self, name, /)\n",
      " |      Return getattr(self, name).\n",
      " |  \n",
      " |  __iter__(self, /)\n",
      " |      Implement iter(self).\n",
      " |  \n",
      " |  __next__(self, /)\n",
      " |      Implement next(self).\n",
      " |  \n",
      " |  __reduce__(...)\n",
      " |      Return state information for pickling.\n",
      " |  \n",
      " |  ----------------------------------------------------------------------\n",
      " |  Static methods defined here:\n",
      " |  \n",
      " |  __new__(*args, **kwargs) from builtins.type\n",
      " |      Create and return a new object.  See help(type) for accurate signature.\n",
      "\n"
     ]
    }
   ],
   "source": [
    "help(map)"
   ]
  },
  {
   "cell_type": "code",
   "execution_count": 6,
   "id": "51163208-d877-47f2-b65f-d962cc64f4b9",
   "metadata": {},
   "outputs": [],
   "source": [
    "myList = list(map(divideNumber,myList))"
   ]
  },
  {
   "cell_type": "code",
   "execution_count": 7,
   "id": "c4bdff15-b2a9-4644-b4cf-aedcdbb5d71e",
   "metadata": {},
   "outputs": [
    {
     "data": {
      "text/plain": [
       "[0.5, 2.5, 3.5, 5.0, 10.0, 15.0]"
      ]
     },
     "execution_count": 7,
     "metadata": {},
     "output_type": "execute_result"
    }
   ],
   "source": [
    "myList"
   ]
  },
  {
   "cell_type": "code",
   "execution_count": 9,
   "id": "ee170060-83e4-488c-8790-477c5b1a9264",
   "metadata": {},
   "outputs": [
    {
     "data": {
      "text/plain": [
       "True"
      ]
     },
     "execution_count": 9,
     "metadata": {},
     "output_type": "execute_result"
    }
   ],
   "source": [
    "def controlString(s):\n",
    "    return \"ali\" in s\n",
    "\n",
    "controlString(\"ali cemil\")"
   ]
  },
  {
   "cell_type": "code",
   "execution_count": 10,
   "id": "bb1846e0-89f8-46eb-a159-41c3d890db59",
   "metadata": {},
   "outputs": [
    {
     "data": {
      "text/plain": [
       "[True, True, False, True, False]"
      ]
     },
     "execution_count": 10,
     "metadata": {},
     "output_type": "execute_result"
    }
   ],
   "source": [
    "myStringList = [\"ali\",\"ali cemil\",\"ozdemir\",\"alicemil ozdemir\",\"cemil ozdemir\"]\n",
    "list(map(controlString,myStringList))"
   ]
  },
  {
   "cell_type": "markdown",
   "id": "a71a82a8-3af8-43ee-8a00-a6de541fcaa2",
   "metadata": {},
   "source": [
    "### Filter "
   ]
  },
  {
   "cell_type": "code",
   "execution_count": 11,
   "id": "ad2e4241-d136-42f8-a9fd-91d69316f32c",
   "metadata": {},
   "outputs": [
    {
     "data": {
      "text/plain": [
       "['ali', 'ali cemil', 'alicemil ozdemir']"
      ]
     },
     "execution_count": 11,
     "metadata": {},
     "output_type": "execute_result"
    }
   ],
   "source": [
    "list(filter(controlString,myStringList))"
   ]
  },
  {
   "cell_type": "markdown",
   "id": "04c68f0c-609c-41ed-a852-63e6d7a26acd",
   "metadata": {},
   "source": [
    "### lamba"
   ]
  },
  {
   "cell_type": "code",
   "execution_count": 12,
   "id": "43027e39-efb2-4e73-abca-cd875772140a",
   "metadata": {},
   "outputs": [],
   "source": [
    "multiplyLambda = lambda num : num * 3"
   ]
  },
  {
   "cell_type": "code",
   "execution_count": 13,
   "id": "f500e040-8d54-44b8-bcb0-12deea45dc56",
   "metadata": {},
   "outputs": [
    {
     "data": {
      "text/plain": [
       "function"
      ]
     },
     "execution_count": 13,
     "metadata": {},
     "output_type": "execute_result"
    }
   ],
   "source": [
    "type(multiplyLambda)"
   ]
  },
  {
   "cell_type": "code",
   "execution_count": 14,
   "id": "7a399e69-1fbd-4a47-bfb1-0b7cc1230424",
   "metadata": {},
   "outputs": [
    {
     "data": {
      "text/plain": [
       "60"
      ]
     },
     "execution_count": 14,
     "metadata": {},
     "output_type": "execute_result"
    }
   ],
   "source": [
    "multiplyLambda(20)"
   ]
  },
  {
   "cell_type": "code",
   "execution_count": 15,
   "id": "c3af9e0e-8b15-45af-9e96-51b5ec5f7b23",
   "metadata": {},
   "outputs": [
    {
     "data": {
      "text/plain": [
       "90"
      ]
     },
     "execution_count": 15,
     "metadata": {},
     "output_type": "execute_result"
    }
   ],
   "source": [
    "multiplyLambda(30)"
   ]
  },
  {
   "cell_type": "code",
   "execution_count": 16,
   "id": "5158926d-c1f3-4ef5-b5ca-a960ed6dbc7d",
   "metadata": {},
   "outputs": [
    {
     "data": {
      "text/plain": [
       "[30, 60, 90, 120, 150]"
      ]
     },
     "execution_count": 16,
     "metadata": {},
     "output_type": "execute_result"
    }
   ],
   "source": [
    "numList = [10,20,30,40,50]\n",
    "list(map(lambda n: n*3, numList))"
   ]
  },
  {
   "cell_type": "markdown",
   "id": "09294918-c6ab-447d-b337-427317c25d75",
   "metadata": {},
   "source": [
    "### Scope "
   ]
  },
  {
   "cell_type": "code",
   "execution_count": 17,
   "id": "adbde4ee-fc35-4da1-9371-48e22dcedc3c",
   "metadata": {},
   "outputs": [
    {
     "data": {
      "text/plain": [
       "50"
      ]
     },
     "execution_count": 17,
     "metadata": {},
     "output_type": "execute_result"
    }
   ],
   "source": [
    "x = 20\n",
    "\n",
    "def multiply(n):\n",
    "    x = 5\n",
    "    return x*n\n",
    "multiply(10)"
   ]
  },
  {
   "cell_type": "code",
   "execution_count": 18,
   "id": "1ba3dc43-1a88-4a01-bac4-fdae4251b0b8",
   "metadata": {},
   "outputs": [],
   "source": [
    "a=10"
   ]
  },
  {
   "cell_type": "code",
   "execution_count": 19,
   "id": "13921c84-f6d2-46d7-af06-4cef198036fa",
   "metadata": {},
   "outputs": [
    {
     "data": {
      "text/plain": [
       "10"
      ]
     },
     "execution_count": 19,
     "metadata": {},
     "output_type": "execute_result"
    }
   ],
   "source": [
    "a"
   ]
  },
  {
   "cell_type": "code",
   "execution_count": 20,
   "id": "da64e201-b089-4484-b90c-a24f72a49258",
   "metadata": {},
   "outputs": [],
   "source": [
    "a=20"
   ]
  },
  {
   "cell_type": "code",
   "execution_count": 21,
   "id": "8ed45c17-89a2-42bc-86f8-e0faa3ba4fe4",
   "metadata": {},
   "outputs": [
    {
     "data": {
      "text/plain": [
       "20"
      ]
     },
     "execution_count": 21,
     "metadata": {},
     "output_type": "execute_result"
    }
   ],
   "source": [
    "a"
   ]
  },
  {
   "cell_type": "code",
   "execution_count": 22,
   "id": "f57dd334-3685-479f-9997-720e9d424d63",
   "metadata": {},
   "outputs": [
    {
     "data": {
      "text/plain": [
       "20"
      ]
     },
     "execution_count": 22,
     "metadata": {},
     "output_type": "execute_result"
    }
   ],
   "source": [
    "x"
   ]
  },
  {
   "cell_type": "code",
   "execution_count": 23,
   "id": "4df3ed4b-855c-480a-bd78-313a1ca4cba9",
   "metadata": {},
   "outputs": [],
   "source": [
    "x = 20\n",
    "\n",
    "def multiply(n):\n",
    "    x = 5\n",
    "    return x*n\n",
    "x=10"
   ]
  },
  {
   "cell_type": "code",
   "execution_count": 24,
   "id": "fd4720f8-380f-4732-936e-6954847d3b63",
   "metadata": {},
   "outputs": [
    {
     "data": {
      "text/plain": [
       "10"
      ]
     },
     "execution_count": 24,
     "metadata": {},
     "output_type": "execute_result"
    }
   ],
   "source": [
    "x"
   ]
  },
  {
   "cell_type": "code",
   "execution_count": 25,
   "id": "a94e0821-5b67-4820-9acd-849a44ac12f3",
   "metadata": {},
   "outputs": [
    {
     "data": {
      "text/plain": [
       "25"
      ]
     },
     "execution_count": 25,
     "metadata": {},
     "output_type": "execute_result"
    }
   ],
   "source": [
    "multiply(5)"
   ]
  },
  {
   "cell_type": "code",
   "execution_count": 26,
   "id": "1df33b57-e18b-47bc-af3e-ba0fd12cb172",
   "metadata": {},
   "outputs": [],
   "source": [
    "x = 20\n",
    "\n",
    "def multiply(n):\n",
    "    return x*n\n",
    "x=10"
   ]
  },
  {
   "cell_type": "code",
   "execution_count": 27,
   "id": "5e737eb5-4a99-429c-939e-f49a1dae0b6b",
   "metadata": {},
   "outputs": [
    {
     "data": {
      "text/plain": [
       "50"
      ]
     },
     "execution_count": 27,
     "metadata": {},
     "output_type": "execute_result"
    }
   ],
   "source": [
    "multiply(5)"
   ]
  },
  {
   "cell_type": "markdown",
   "id": "18f1e3ad-f31a-4ec2-ae3e-d435e6597016",
   "metadata": {},
   "source": [
    "### LEGB -> Local Enclosing Global Built-in"
   ]
  },
  {
   "cell_type": "code",
   "execution_count": 43,
   "id": "86289e09-f8fd-4042-81e3-ed7d64f90b8f",
   "metadata": {},
   "outputs": [],
   "source": [
    "#global\n",
    "myString = \"ali cemil\"\n",
    "def myFunction() : \n",
    "    # Enclosing\n",
    "    #myString = \"ali cemil 2\"\n",
    "\n",
    "    def myFunction2():\n",
    "        # Local\n",
    "        #myString = \"ali cemil 3\"\n",
    "        print(myString)\n",
    "\n",
    "    myFunction2()"
   ]
  },
  {
   "cell_type": "code",
   "execution_count": 44,
   "id": "cf47364f-fea6-4b9e-927a-ae80487e2386",
   "metadata": {},
   "outputs": [
    {
     "data": {
      "text/plain": [
       "'ali cemil'"
      ]
     },
     "execution_count": 44,
     "metadata": {},
     "output_type": "execute_result"
    }
   ],
   "source": [
    "myString"
   ]
  },
  {
   "cell_type": "code",
   "execution_count": 45,
   "id": "6cf48be3-ec6a-4e52-b1ae-b3c385ddaa81",
   "metadata": {},
   "outputs": [
    {
     "name": "stdout",
     "output_type": "stream",
     "text": [
      "ali cemil\n"
     ]
    }
   ],
   "source": [
    "myFunction()"
   ]
  },
  {
   "cell_type": "code",
   "execution_count": 46,
   "id": "f35ccfb6-16ec-4573-99ab-1ed1b03ab8f2",
   "metadata": {},
   "outputs": [
    {
     "data": {
      "text/plain": [
       "'ali cemil'"
      ]
     },
     "execution_count": 46,
     "metadata": {},
     "output_type": "execute_result"
    }
   ],
   "source": [
    "myString"
   ]
  },
  {
   "cell_type": "code",
   "execution_count": 5,
   "id": "a6abfb42-21bf-489e-9d1e-38e8d52211c3",
   "metadata": {},
   "outputs": [],
   "source": [
    "def test1():\n",
    "    myVariable = 10\n",
    "    print(myVariable * 2)\n",
    "def test1():\n",
    "    print(myVariable * 2)"
   ]
  },
  {
   "cell_type": "code",
   "execution_count": 6,
   "id": "60925aaf-4628-402f-915e-cf58e6a7c361",
   "metadata": {},
   "outputs": [],
   "source": [
    "y = 10\n",
    "def newFunction(y):\n",
    "    print(y)\n",
    "    y=5\n",
    "    print(y)\n",
    "    return y"
   ]
  },
  {
   "cell_type": "code",
   "execution_count": 7,
   "id": "57ffea4c-ab79-45df-8fff-8c890f1fb63e",
   "metadata": {},
   "outputs": [
    {
     "name": "stdout",
     "output_type": "stream",
     "text": [
      "10\n",
      "5\n"
     ]
    },
    {
     "data": {
      "text/plain": [
       "5"
      ]
     },
     "execution_count": 7,
     "metadata": {},
     "output_type": "execute_result"
    }
   ],
   "source": [
    "newFunction(10)"
   ]
  },
  {
   "cell_type": "code",
   "execution_count": 8,
   "id": "e6b76e25-9d37-4098-a655-e345c63f3913",
   "metadata": {},
   "outputs": [
    {
     "data": {
      "text/plain": [
       "10"
      ]
     },
     "execution_count": 8,
     "metadata": {},
     "output_type": "execute_result"
    }
   ],
   "source": [
    "y"
   ]
  },
  {
   "cell_type": "code",
   "execution_count": 9,
   "id": "08c85b18-1003-49de-88dd-dcd00ce7115b",
   "metadata": {},
   "outputs": [],
   "source": [
    "y = 10\n",
    "def changeY():\n",
    "    global y\n",
    "    y=5\n",
    "    print(y)\n",
    "    return y"
   ]
  },
  {
   "cell_type": "code",
   "execution_count": 10,
   "id": "23ced6b4-1da7-4632-9073-e0fe663e7001",
   "metadata": {},
   "outputs": [
    {
     "name": "stdout",
     "output_type": "stream",
     "text": [
      "5\n"
     ]
    },
    {
     "data": {
      "text/plain": [
       "5"
      ]
     },
     "execution_count": 10,
     "metadata": {},
     "output_type": "execute_result"
    }
   ],
   "source": [
    "changeY()"
   ]
  },
  {
   "cell_type": "code",
   "execution_count": 11,
   "id": "8655257e-c592-4b9b-a2c8-3238dc4c1812",
   "metadata": {},
   "outputs": [
    {
     "data": {
      "text/plain": [
       "5"
      ]
     },
     "execution_count": 11,
     "metadata": {},
     "output_type": "execute_result"
    }
   ],
   "source": [
    "y"
   ]
  },
  {
   "cell_type": "code",
   "execution_count": null,
   "id": "312df75b-a81c-4ed4-aef9-a8c3175fae2c",
   "metadata": {},
   "outputs": [],
   "source": []
  }
 ],
 "metadata": {
  "kernelspec": {
   "display_name": "Python [conda env:base] *",
   "language": "python",
   "name": "conda-base-py"
  },
  "language_info": {
   "codemirror_mode": {
    "name": "ipython",
    "version": 3
   },
   "file_extension": ".py",
   "mimetype": "text/x-python",
   "name": "python",
   "nbconvert_exporter": "python",
   "pygments_lexer": "ipython3",
   "version": "3.11.7"
  }
 },
 "nbformat": 4,
 "nbformat_minor": 5
}
