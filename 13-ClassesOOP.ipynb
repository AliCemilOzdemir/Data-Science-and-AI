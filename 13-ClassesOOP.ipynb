{
 "cells": [
  {
   "cell_type": "code",
   "execution_count": 1,
   "id": "8945a9e1-3a51-4c49-8e2d-58e95801c964",
   "metadata": {},
   "outputs": [],
   "source": [
    "aliName = \"Ali\"\n",
    "aliAge = 90\n",
    "aliGender = \"Male\""
   ]
  },
  {
   "cell_type": "code",
   "execution_count": 20,
   "id": "e8f50359-3e37-4a69-8643-25b5750f9ee6",
   "metadata": {},
   "outputs": [],
   "source": [
    "class Person():\n",
    "    name = \"\"\n",
    "    age = 0\n",
    "    gender = \"\"\n",
    "\n",
    "    #method initializer\n",
    "    def __init__(self):\n",
    "        print(\"init executed\")"
   ]
  },
  {
   "cell_type": "code",
   "execution_count": 21,
   "id": "ea48f13c-a189-4156-a067-cf18ff99c72d",
   "metadata": {},
   "outputs": [
    {
     "name": "stdout",
     "output_type": "stream",
     "text": [
      "init executed\n"
     ]
    }
   ],
   "source": [
    "ali_cemil = Person()"
   ]
  },
  {
   "cell_type": "code",
   "execution_count": 22,
   "id": "0708f0bb-dbf8-440c-a059-c768eab94723",
   "metadata": {},
   "outputs": [],
   "source": [
    "ali_cemil.name = \"ali cemil\""
   ]
  },
  {
   "cell_type": "code",
   "execution_count": 23,
   "id": "2b988ca9-4beb-4d5f-bc4d-882ee42506c1",
   "metadata": {},
   "outputs": [
    {
     "data": {
      "text/plain": [
       "__main__.Person"
      ]
     },
     "execution_count": 23,
     "metadata": {},
     "output_type": "execute_result"
    }
   ],
   "source": [
    "type(ali_cemil)"
   ]
  },
  {
   "cell_type": "code",
   "execution_count": 24,
   "id": "81a0df2c-58b2-47a6-b920-a8f51eed1479",
   "metadata": {},
   "outputs": [],
   "source": [
    "ali_cemil.age = 18"
   ]
  },
  {
   "cell_type": "code",
   "execution_count": 25,
   "id": "0a549759-8b81-47cc-ac7d-2b1d492af168",
   "metadata": {},
   "outputs": [
    {
     "data": {
      "text/plain": [
       "<__main__.Person at 0x2a4aeede7d0>"
      ]
     },
     "execution_count": 25,
     "metadata": {},
     "output_type": "execute_result"
    }
   ],
   "source": [
    "ali_cemil"
   ]
  },
  {
   "cell_type": "code",
   "execution_count": 26,
   "id": "c2860ccb-976d-424c-bd0b-322711ed4bba",
   "metadata": {},
   "outputs": [],
   "source": [
    "ali_cemil.gender = \"male\""
   ]
  },
  {
   "cell_type": "code",
   "execution_count": 27,
   "id": "c886de99-f760-446b-94ee-67fb3b71360a",
   "metadata": {},
   "outputs": [
    {
     "name": "stdout",
     "output_type": "stream",
     "text": [
      "init executed\n"
     ]
    }
   ],
   "source": [
    "yusuf = Person()"
   ]
  },
  {
   "cell_type": "code",
   "execution_count": 84,
   "id": "c3f79017-39a3-4cac-b536-fa802ca22e29",
   "metadata": {},
   "outputs": [],
   "source": [
    "class Person():\n",
    "    # property\n",
    "    #name = \"\"\n",
    "    #age = 0\n",
    "    #gender = \"\"\n",
    "    job = \"\" # default value\n",
    "    #method initializer\n",
    "    def __init__(self,name,age,gender):\n",
    "        self.name = name\n",
    "        # name tanımlanmasa bile(property) dışarıdan person.name dediğimizde anlıyor\n",
    "        # ancak içeride name diye bir şey yok o yuzden printHello da self.name kullandık\n",
    "        self.age = age\n",
    "        self.gender = gender\n",
    "    #method\n",
    "    def printHello(self):\n",
    "        print(f\"Hello {self.name}\")"
   ]
  },
  {
   "cell_type": "code",
   "execution_count": 85,
   "id": "75e7b166-3784-4b6b-8c21-0e628b6d259f",
   "metadata": {},
   "outputs": [],
   "source": [
    "yusuf = Person(\"Yusuf\",17,\"Male\")"
   ]
  },
  {
   "cell_type": "code",
   "execution_count": 86,
   "id": "2c654d06-dbe4-4168-ad76-a71dd604002f",
   "metadata": {},
   "outputs": [
    {
     "data": {
      "text/plain": [
       "__main__.Person"
      ]
     },
     "execution_count": 86,
     "metadata": {},
     "output_type": "execute_result"
    }
   ],
   "source": [
    "type(yusuf)"
   ]
  },
  {
   "cell_type": "code",
   "execution_count": 87,
   "id": "ac9a8ff7-5e96-4d55-a8de-e62ee8842702",
   "metadata": {},
   "outputs": [
    {
     "data": {
      "text/plain": [
       "'Yusuf'"
      ]
     },
     "execution_count": 87,
     "metadata": {},
     "output_type": "execute_result"
    }
   ],
   "source": [
    "yusuf.name"
   ]
  },
  {
   "cell_type": "code",
   "execution_count": 88,
   "id": "4ffdca82-dfcd-41c2-be79-a0a9b9007bb9",
   "metadata": {},
   "outputs": [
    {
     "data": {
      "text/plain": [
       "17"
      ]
     },
     "execution_count": 88,
     "metadata": {},
     "output_type": "execute_result"
    }
   ],
   "source": [
    "yusuf.age"
   ]
  },
  {
   "cell_type": "code",
   "execution_count": 89,
   "id": "c806bbe6-35d9-4242-9c63-ca8ee9fccce0",
   "metadata": {},
   "outputs": [
    {
     "data": {
      "text/plain": [
       "'Male'"
      ]
     },
     "execution_count": 89,
     "metadata": {},
     "output_type": "execute_result"
    }
   ],
   "source": [
    "yusuf.gender"
   ]
  },
  {
   "cell_type": "code",
   "execution_count": 90,
   "id": "03cade24-8747-4ad6-9b70-4d5070dafc90",
   "metadata": {},
   "outputs": [
    {
     "name": "stdout",
     "output_type": "stream",
     "text": [
      "Hello Yusuf\n"
     ]
    }
   ],
   "source": [
    "yusuf.printHello()"
   ]
  },
  {
   "cell_type": "code",
   "execution_count": 91,
   "id": "c13b1499-6170-4df2-8c59-8141b872f74e",
   "metadata": {},
   "outputs": [],
   "source": [
    "yusuf.job = \"developer\""
   ]
  },
  {
   "cell_type": "code",
   "execution_count": 92,
   "id": "5b663e41-35f1-4711-b86d-c411dde4a58e",
   "metadata": {},
   "outputs": [
    {
     "data": {
      "text/plain": [
       "'developer'"
      ]
     },
     "execution_count": 92,
     "metadata": {},
     "output_type": "execute_result"
    }
   ],
   "source": [
    "yusuf.job"
   ]
  },
  {
   "cell_type": "code",
   "execution_count": 122,
   "id": "46b36c30-7ddb-466e-a521-5e9cfb298afb",
   "metadata": {},
   "outputs": [],
   "source": [
    "class Dog():\n",
    "    year = 7\n",
    "    \n",
    "    def __init__(self,age=5):\n",
    "        self.age = age\n",
    "        self.dogHumanAge = age * self.year # age aynı kapsamda\n",
    "        print(\"dog instance is created\")\n",
    "\n",
    "    def humanAge(self):\n",
    "        return self.age * Dog.year # self.year yerine Dog.year yazabiliriz"
   ]
  },
  {
   "cell_type": "code",
   "execution_count": 125,
   "id": "2a30ac1a-dc20-49d4-bcc4-191c10249ba4",
   "metadata": {},
   "outputs": [
    {
     "name": "stdout",
     "output_type": "stream",
     "text": [
      "dog instance is created\n"
     ]
    }
   ],
   "source": [
    "ali = Dog(3)"
   ]
  },
  {
   "cell_type": "code",
   "execution_count": 126,
   "id": "aa10c484-6ec4-4700-99c2-abfb3736d528",
   "metadata": {},
   "outputs": [
    {
     "data": {
      "text/plain": [
       "21"
      ]
     },
     "execution_count": 126,
     "metadata": {},
     "output_type": "execute_result"
    }
   ],
   "source": [
    "ali.humanAge()"
   ]
  },
  {
   "cell_type": "code",
   "execution_count": 127,
   "id": "3d4825ee-5d08-4e34-9fe0-76ebede8e80d",
   "metadata": {},
   "outputs": [
    {
     "data": {
      "text/plain": [
       "21"
      ]
     },
     "execution_count": 127,
     "metadata": {},
     "output_type": "execute_result"
    }
   ],
   "source": [
    "ali.dogHumanAge"
   ]
  },
  {
   "cell_type": "code",
   "execution_count": 128,
   "id": "37505a55-1928-4b9e-8097-a2234f7b8d9e",
   "metadata": {},
   "outputs": [
    {
     "name": "stdout",
     "output_type": "stream",
     "text": [
      "dog instance is created\n"
     ]
    }
   ],
   "source": [
    "barley = Dog()"
   ]
  },
  {
   "cell_type": "code",
   "execution_count": 129,
   "id": "6db8e329-b251-40c4-a6ca-b7168eaf9757",
   "metadata": {},
   "outputs": [
    {
     "data": {
      "text/plain": [
       "35"
      ]
     },
     "execution_count": 129,
     "metadata": {},
     "output_type": "execute_result"
    }
   ],
   "source": [
    "barley.humanAge()"
   ]
  },
  {
   "cell_type": "code",
   "execution_count": null,
   "id": "57442cc2-fbe6-4dcb-976e-282e5282d341",
   "metadata": {},
   "outputs": [],
   "source": []
  }
 ],
 "metadata": {
  "kernelspec": {
   "display_name": "Python [conda env:base] *",
   "language": "python",
   "name": "conda-base-py"
  },
  "language_info": {
   "codemirror_mode": {
    "name": "ipython",
    "version": 3
   },
   "file_extension": ".py",
   "mimetype": "text/x-python",
   "name": "python",
   "nbconvert_exporter": "python",
   "pygments_lexer": "ipython3",
   "version": "3.11.7"
  }
 },
 "nbformat": 4,
 "nbformat_minor": 5
}
