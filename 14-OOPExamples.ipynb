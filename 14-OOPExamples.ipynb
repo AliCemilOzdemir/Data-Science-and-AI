{
 "cells": [
  {
   "cell_type": "markdown",
   "id": "da227b8a-068c-4587-83f2-f9199d41a84b",
   "metadata": {},
   "source": [
    "### inheritance "
   ]
  },
  {
   "cell_type": "code",
   "execution_count": 2,
   "id": "6cb63131-c9fe-4a0e-b430-bfe0a74ed37b",
   "metadata": {},
   "outputs": [],
   "source": [
    "class Musician():\n",
    "    def __init__(self,name) :\n",
    "        self.name = name\n",
    "        print(\"musician class\")\n",
    "    def test1(self):\n",
    "        print(\"test1\")\n",
    "    def test2(self):\n",
    "        print(\"test2\")"
   ]
  },
  {
   "cell_type": "code",
   "execution_count": 3,
   "id": "acf3e691-61d4-418e-8fa8-84c32e740718",
   "metadata": {},
   "outputs": [
    {
     "name": "stdout",
     "output_type": "stream",
     "text": [
      "musician class\n"
     ]
    }
   ],
   "source": [
    "ace = Musician(\"ali cemil\")"
   ]
  },
  {
   "cell_type": "code",
   "execution_count": 4,
   "id": "f265cfae-45cd-450b-8bfd-7dbde27ded93",
   "metadata": {},
   "outputs": [
    {
     "data": {
      "text/plain": [
       "'ali cemil'"
      ]
     },
     "execution_count": 4,
     "metadata": {},
     "output_type": "execute_result"
    }
   ],
   "source": [
    "ace.name"
   ]
  },
  {
   "cell_type": "code",
   "execution_count": 5,
   "id": "f33f1e8f-658a-4978-80cf-2fc96a13b292",
   "metadata": {},
   "outputs": [
    {
     "name": "stdout",
     "output_type": "stream",
     "text": [
      "test1\n"
     ]
    }
   ],
   "source": [
    "ace.test1()"
   ]
  },
  {
   "cell_type": "code",
   "execution_count": 6,
   "id": "28ac7046-ebf6-4dfc-995a-8b2b654ed6d0",
   "metadata": {},
   "outputs": [
    {
     "name": "stdout",
     "output_type": "stream",
     "text": [
      "test2\n"
     ]
    }
   ],
   "source": [
    "ace.test2()"
   ]
  },
  {
   "cell_type": "code",
   "execution_count": 27,
   "id": "ed5ca320-a268-4c76-9ecb-f9c50b66f68b",
   "metadata": {},
   "outputs": [],
   "source": [
    "class MusicianPlus(Musician):\n",
    "\n",
    "    def __init__(self,name):\n",
    "        self.name = name\n",
    "        Musician.__init__(self,name)\n",
    "        print(\"Musician Plus\")\n",
    "    def test3(self):\n",
    "        print(\"test3\")\n",
    "    def test1(self):\n",
    "        print(\"test1 test1 test1\")"
   ]
  },
  {
   "cell_type": "code",
   "execution_count": 28,
   "id": "fe86ad3b-d5d7-4fb7-9d2d-7ee3091d64ed",
   "metadata": {},
   "outputs": [
    {
     "name": "stdout",
     "output_type": "stream",
     "text": [
      "musician class\n",
      "Musician Plus\n"
     ]
    }
   ],
   "source": [
    "yusuf = MusicianPlus(\"yusuf\")"
   ]
  },
  {
   "cell_type": "code",
   "execution_count": 29,
   "id": "88dccd50-b513-4e7b-a3ce-8ddf0f98d737",
   "metadata": {},
   "outputs": [
    {
     "name": "stdout",
     "output_type": "stream",
     "text": [
      "test1 test1 test1\n"
     ]
    }
   ],
   "source": [
    "yusuf.test1()"
   ]
  },
  {
   "cell_type": "code",
   "execution_count": 30,
   "id": "52f66947-325f-449b-831b-73504c176a4b",
   "metadata": {},
   "outputs": [
    {
     "name": "stdout",
     "output_type": "stream",
     "text": [
      "test2\n"
     ]
    }
   ],
   "source": [
    "yusuf.test2()"
   ]
  },
  {
   "cell_type": "code",
   "execution_count": 31,
   "id": "f50041ee-3662-4f59-bfeb-d6bab9138ea3",
   "metadata": {},
   "outputs": [],
   "source": [
    "yusuf.name = \"Yusuf Ozdemir\""
   ]
  },
  {
   "cell_type": "code",
   "execution_count": 32,
   "id": "7bfef325-e8db-475e-ad69-fac0192e0fd2",
   "metadata": {},
   "outputs": [
    {
     "data": {
      "text/plain": [
       "__main__.MusicianPlus"
      ]
     },
     "execution_count": 32,
     "metadata": {},
     "output_type": "execute_result"
    }
   ],
   "source": [
    "type(yusuf)"
   ]
  },
  {
   "cell_type": "code",
   "execution_count": 33,
   "id": "b073178c-cb6a-445d-96ff-ebb50bae691a",
   "metadata": {},
   "outputs": [
    {
     "name": "stdout",
     "output_type": "stream",
     "text": [
      "test3\n"
     ]
    }
   ],
   "source": [
    "yusuf.test3()"
   ]
  },
  {
   "cell_type": "code",
   "execution_count": 34,
   "id": "53d06f4c-dbc3-48fa-8fe5-9acca72dcdcf",
   "metadata": {},
   "outputs": [
    {
     "name": "stdout",
     "output_type": "stream",
     "text": [
      "test1\n"
     ]
    }
   ],
   "source": [
    "ace.test1()"
   ]
  },
  {
   "cell_type": "code",
   "execution_count": 35,
   "id": "86522c36-11e5-449c-bcb5-cb63a38d27cb",
   "metadata": {},
   "outputs": [
    {
     "data": {
      "text/plain": [
       "__main__.Musician"
      ]
     },
     "execution_count": 35,
     "metadata": {},
     "output_type": "execute_result"
    }
   ],
   "source": [
    "type(ace)"
   ]
  },
  {
   "cell_type": "code",
   "execution_count": 36,
   "id": "136c6f1a-433e-4ece-8ca1-91c05f1c21e6",
   "metadata": {},
   "outputs": [
    {
     "data": {
      "text/plain": [
       "__main__.MusicianPlus"
      ]
     },
     "execution_count": 36,
     "metadata": {},
     "output_type": "execute_result"
    }
   ],
   "source": [
    "type(yusuf)"
   ]
  },
  {
   "cell_type": "markdown",
   "id": "d74e6634-2c58-4364-8319-386aa7031fee",
   "metadata": {},
   "source": [
    "### Polymorphism "
   ]
  },
  {
   "cell_type": "code",
   "execution_count": 38,
   "id": "a8602be8-1484-44cc-a97a-babb4a7cdf97",
   "metadata": {},
   "outputs": [],
   "source": [
    "class Banana():\n",
    "    def __init__(self,name):\n",
    "        self.name = name\n",
    "    def info(self):\n",
    "        return f\"100 calories {self.name}\"\n",
    "\n",
    "class Apple():\n",
    "    def __init__(self,name):\n",
    "        self.name = name\n",
    "    def info(self):\n",
    "        return f\"150 calories {self.name}\"        "
   ]
  },
  {
   "cell_type": "code",
   "execution_count": 39,
   "id": "1dbcc76c-b6b7-4c40-9146-dc984ca8e983",
   "metadata": {},
   "outputs": [],
   "source": [
    "banana = Banana(\"banana\")"
   ]
  },
  {
   "cell_type": "code",
   "execution_count": 42,
   "id": "4327266f-833f-4c30-b625-bff26c9931e5",
   "metadata": {},
   "outputs": [],
   "source": [
    "apple = Apple(\"apple\")"
   ]
  },
  {
   "cell_type": "code",
   "execution_count": 43,
   "id": "c0614890-5942-4441-b01e-c8bc69ba48c6",
   "metadata": {},
   "outputs": [
    {
     "data": {
      "text/plain": [
       "'100 calories banana'"
      ]
     },
     "execution_count": 43,
     "metadata": {},
     "output_type": "execute_result"
    }
   ],
   "source": [
    "banana.info()"
   ]
  },
  {
   "cell_type": "code",
   "execution_count": 44,
   "id": "aeffedd9-34fa-4a61-a892-2c765c2e18de",
   "metadata": {},
   "outputs": [
    {
     "data": {
      "text/plain": [
       "'150 calories apple'"
      ]
     },
     "execution_count": 44,
     "metadata": {},
     "output_type": "execute_result"
    }
   ],
   "source": [
    "apple.info()"
   ]
  },
  {
   "cell_type": "code",
   "execution_count": 45,
   "id": "b35c70de-f18a-4261-b029-c29fc41de770",
   "metadata": {},
   "outputs": [],
   "source": [
    "fruitList = [banana,apple]"
   ]
  },
  {
   "cell_type": "code",
   "execution_count": 48,
   "id": "ee43a379-d696-411c-a61e-363392b814ed",
   "metadata": {},
   "outputs": [
    {
     "name": "stdout",
     "output_type": "stream",
     "text": [
      "100 calories banana\n",
      "150 calories apple\n"
     ]
    }
   ],
   "source": [
    "# polymorphism\n",
    "for fruit in fruitList:\n",
    "    print(fruit.info())"
   ]
  },
  {
   "cell_type": "markdown",
   "id": "4c994124-996c-4f7e-b7c7-0c150cceac55",
   "metadata": {},
   "source": [
    "### Encapsulation "
   ]
  },
  {
   "cell_type": "code",
   "execution_count": 67,
   "id": "c422237a-55d6-4377-8ba1-41c14c11c2e1",
   "metadata": {},
   "outputs": [],
   "source": [
    "class Phone():\n",
    "\n",
    "    def __init__(self,name,price):\n",
    "        self.name = name\n",
    "        self.__price = price # değişkeni enkapsüle eder\n",
    "    def info(self):\n",
    "        print(f\"{self.name} price is: {self.__price}\")\n",
    "    def changePrice(self,price):\n",
    "        self.__price = price"
   ]
  },
  {
   "cell_type": "code",
   "execution_count": 68,
   "id": "164e598d-0821-4797-a196-ce57f64e3bbe",
   "metadata": {},
   "outputs": [],
   "source": [
    "iphone = Phone(\"Iphone 14\",500)"
   ]
  },
  {
   "cell_type": "code",
   "execution_count": 69,
   "id": "bba87a2f-ab90-4689-b676-080b3eb79e0c",
   "metadata": {},
   "outputs": [
    {
     "name": "stdout",
     "output_type": "stream",
     "text": [
      "Iphone 14 price is: 500\n"
     ]
    }
   ],
   "source": [
    "iphone.info()"
   ]
  },
  {
   "cell_type": "code",
   "execution_count": 70,
   "id": "a25fac35-17bc-4e76-a24a-555d1d99a4d8",
   "metadata": {},
   "outputs": [],
   "source": [
    "iphone.__price=400"
   ]
  },
  {
   "cell_type": "code",
   "execution_count": 71,
   "id": "67436842-23e6-4080-8566-ae157ae9cb12",
   "metadata": {},
   "outputs": [],
   "source": [
    "iphone.price = 300"
   ]
  },
  {
   "cell_type": "code",
   "execution_count": 72,
   "id": "a4a0fcd3-672d-494a-8eec-cc8c8869fd6d",
   "metadata": {},
   "outputs": [
    {
     "name": "stdout",
     "output_type": "stream",
     "text": [
      "Iphone 14 price is: 500\n"
     ]
    }
   ],
   "source": [
    "iphone.info()"
   ]
  },
  {
   "cell_type": "code",
   "execution_count": 73,
   "id": "db91e6f8-6e7e-4de5-a4c5-e05a49fdb905",
   "metadata": {},
   "outputs": [],
   "source": [
    "iphone.changePrice(100)"
   ]
  },
  {
   "cell_type": "code",
   "execution_count": 74,
   "id": "a5c99f9f-c6c6-4d11-9fbe-6c2ffe717608",
   "metadata": {},
   "outputs": [
    {
     "name": "stdout",
     "output_type": "stream",
     "text": [
      "Iphone 14 price is: 100\n"
     ]
    }
   ],
   "source": [
    "iphone.info()"
   ]
  },
  {
   "cell_type": "markdown",
   "id": "e788de07-378a-4205-9d99-3afa7106341c",
   "metadata": {},
   "source": [
    "### Abstraction "
   ]
  },
  {
   "cell_type": "code",
   "execution_count": 1,
   "id": "7595b814-46a0-4916-b246-5cb9bd648020",
   "metadata": {},
   "outputs": [],
   "source": [
    "from abc import ABC,abstractmethod"
   ]
  },
  {
   "cell_type": "code",
   "execution_count": 9,
   "id": "98c202a7-58d9-4286-9905-35b4c08a2ddc",
   "metadata": {},
   "outputs": [],
   "source": [
    "class Car(ABC):\n",
    "    @abstractmethod\n",
    "    def maxSpeed(self):\n",
    "        pass"
   ]
  },
  {
   "cell_type": "code",
   "execution_count": 10,
   "id": "938e2ba4-fdbd-4a03-a0dd-4e194b8ed08c",
   "metadata": {},
   "outputs": [],
   "source": [
    "# myCar = Car()"
   ]
  },
  {
   "cell_type": "code",
   "execution_count": 11,
   "id": "b55d7741-7361-4b7f-8fa5-5ad5326d5898",
   "metadata": {},
   "outputs": [],
   "source": [
    "class Tesla(Car):\n",
    "    def maxSpeed(self):\n",
    "        print(\"200km\")\n",
    "    "
   ]
  },
  {
   "cell_type": "code",
   "execution_count": 12,
   "id": "c3dfed7f-6c65-48e3-a842-84de00e3869f",
   "metadata": {},
   "outputs": [],
   "source": [
    "tesla = Tesla()"
   ]
  },
  {
   "cell_type": "code",
   "execution_count": 13,
   "id": "22c7410c-ff87-4831-8b0a-f345d179d3a2",
   "metadata": {},
   "outputs": [
    {
     "name": "stdout",
     "output_type": "stream",
     "text": [
      "200km\n"
     ]
    }
   ],
   "source": [
    "tesla.maxSpeed()"
   ]
  },
  {
   "cell_type": "code",
   "execution_count": 14,
   "id": "9a07c6af-4c4c-47ec-884b-75332ced37c7",
   "metadata": {},
   "outputs": [],
   "source": [
    "class Mercedes(Car):\n",
    "    def maxSpeed(self):\n",
    "        print(\"250km\")"
   ]
  },
  {
   "cell_type": "code",
   "execution_count": 15,
   "id": "5e623eab-c6e5-4f50-a30e-873314b6a884",
   "metadata": {},
   "outputs": [],
   "source": [
    "merso = Mercedes()"
   ]
  },
  {
   "cell_type": "code",
   "execution_count": 16,
   "id": "d0329ba6-b0bd-4ec9-acd2-48e3a2af5371",
   "metadata": {},
   "outputs": [
    {
     "name": "stdout",
     "output_type": "stream",
     "text": [
      "250km\n"
     ]
    }
   ],
   "source": [
    "merso.maxSpeed()"
   ]
  },
  {
   "cell_type": "markdown",
   "id": "da3b0fb4-57d9-4811-923a-74a2b2c12947",
   "metadata": {},
   "source": [
    "### Özel Metotlar"
   ]
  },
  {
   "cell_type": "code",
   "execution_count": 46,
   "id": "4f1f6845-f5c9-4f2d-8e08-4037f3013714",
   "metadata": {},
   "outputs": [],
   "source": [
    "class Fruit():\n",
    "    def __init__(self,name,calories):\n",
    "        self.name = name\n",
    "        self.calories = calories\n",
    "    def __str__(self):\n",
    "        return f\"{self.name}: {self.calories} calories\"\n",
    "    def __len__(self):\n",
    "        return self.calories"
   ]
  },
  {
   "cell_type": "code",
   "execution_count": 47,
   "id": "b726c9ad-7862-4b75-97bc-d28a09e09574",
   "metadata": {},
   "outputs": [],
   "source": [
    "myFruit = Fruit(\"banana\",150)"
   ]
  },
  {
   "cell_type": "code",
   "execution_count": 48,
   "id": "0f418d5b-e2c4-457c-b2f6-86fe92365213",
   "metadata": {},
   "outputs": [
    {
     "data": {
      "text/plain": [
       "150"
      ]
     },
     "execution_count": 48,
     "metadata": {},
     "output_type": "execute_result"
    }
   ],
   "source": [
    "myFruit.calories"
   ]
  },
  {
   "cell_type": "code",
   "execution_count": 49,
   "id": "6ede2195-28ed-413b-b06c-520b3da32747",
   "metadata": {},
   "outputs": [
    {
     "data": {
      "text/plain": [
       "'banana'"
      ]
     },
     "execution_count": 49,
     "metadata": {},
     "output_type": "execute_result"
    }
   ],
   "source": [
    "myFruit.name"
   ]
  },
  {
   "cell_type": "code",
   "execution_count": 50,
   "id": "008bae79-0473-48a3-a831-f23fbc7ccaee",
   "metadata": {},
   "outputs": [
    {
     "name": "stdout",
     "output_type": "stream",
     "text": [
      "banana: 150 calories\n"
     ]
    }
   ],
   "source": [
    "print(myFruit)"
   ]
  },
  {
   "cell_type": "code",
   "execution_count": 51,
   "id": "a597c994-dfe3-4c54-a11c-0b0fd20959f2",
   "metadata": {},
   "outputs": [],
   "source": [
    "myList = [1,2,3]"
   ]
  },
  {
   "cell_type": "code",
   "execution_count": 52,
   "id": "c5e1eb4a-8112-485b-8e9f-e58475ba0b38",
   "metadata": {},
   "outputs": [
    {
     "data": {
      "text/plain": [
       "3"
      ]
     },
     "execution_count": 52,
     "metadata": {},
     "output_type": "execute_result"
    }
   ],
   "source": [
    "len(myList)"
   ]
  },
  {
   "cell_type": "code",
   "execution_count": 53,
   "id": "6b59a066-2808-4c27-9744-8481a0e4bd56",
   "metadata": {},
   "outputs": [
    {
     "data": {
      "text/plain": [
       "150"
      ]
     },
     "execution_count": 53,
     "metadata": {},
     "output_type": "execute_result"
    }
   ],
   "source": [
    "len(myFruit)"
   ]
  },
  {
   "cell_type": "code",
   "execution_count": 54,
   "id": "a4913ee1-c727-42f1-9bdc-b851ecc97008",
   "metadata": {},
   "outputs": [],
   "source": [
    "class Train():\n",
    "\n",
    "    def __init__(self,name):\n",
    "        self.name = name\n",
    "    def __getitem__(self,key):\n",
    "        if key==\"a\":\n",
    "            return self.name\n",
    "        else:\n",
    "            return \"not found:\""
   ]
  },
  {
   "cell_type": "code",
   "execution_count": 55,
   "id": "b6a71ee7-8482-41a8-9c4b-afff66d1dc90",
   "metadata": {},
   "outputs": [],
   "source": [
    "myTrain = Train(\"myTrain\")"
   ]
  },
  {
   "cell_type": "code",
   "execution_count": 56,
   "id": "03f715bf-db87-4c06-a342-29aa895f4875",
   "metadata": {},
   "outputs": [
    {
     "data": {
      "text/plain": [
       "'myTrain'"
      ]
     },
     "execution_count": 56,
     "metadata": {},
     "output_type": "execute_result"
    }
   ],
   "source": [
    "myTrain[\"a\"]"
   ]
  },
  {
   "cell_type": "code",
   "execution_count": 57,
   "id": "7b9a27d3-9c2e-40fd-9710-af6d6a62bf4f",
   "metadata": {},
   "outputs": [
    {
     "data": {
      "text/plain": [
       "'not found:'"
      ]
     },
     "execution_count": 57,
     "metadata": {},
     "output_type": "execute_result"
    }
   ],
   "source": [
    "myTrain[\"b\"]"
   ]
  },
  {
   "cell_type": "code",
   "execution_count": 59,
   "id": "1cb05d7d-6ce5-4053-9511-195ae6acbf78",
   "metadata": {},
   "outputs": [],
   "source": [
    "# myFruit[\"a\"] hata verir çünkü __getitem__ tanımlı değil\n",
    "# 'Fruit' object is not subscriptable"
   ]
  },
  {
   "cell_type": "code",
   "execution_count": null,
   "id": "7b4b527a-23fd-4b47-8efc-c40be79c48a4",
   "metadata": {},
   "outputs": [],
   "source": []
  }
 ],
 "metadata": {
  "kernelspec": {
   "display_name": "Python [conda env:base] *",
   "language": "python",
   "name": "conda-base-py"
  },
  "language_info": {
   "codemirror_mode": {
    "name": "ipython",
    "version": 3
   },
   "file_extension": ".py",
   "mimetype": "text/x-python",
   "name": "python",
   "nbconvert_exporter": "python",
   "pygments_lexer": "ipython3",
   "version": "3.11.7"
  }
 },
 "nbformat": 4,
 "nbformat_minor": 5
}
