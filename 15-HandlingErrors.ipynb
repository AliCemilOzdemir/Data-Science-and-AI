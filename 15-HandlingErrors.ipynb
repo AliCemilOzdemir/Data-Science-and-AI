{
 "cells": [
  {
   "cell_type": "code",
   "execution_count": 1,
   "id": "f7cebf7e-ec9a-4a42-92e7-36d350ecab99",
   "metadata": {},
   "outputs": [
    {
     "name": "stdin",
     "output_type": "stream",
     "text": [
      "enter age:  ali\n"
     ]
    }
   ],
   "source": [
    "age = input(\"enter age: \")"
   ]
  },
  {
   "cell_type": "code",
   "execution_count": 2,
   "id": "67e811a4-06e5-45dc-ac03-9af24fc5f73b",
   "metadata": {},
   "outputs": [
    {
     "data": {
      "text/plain": [
       "'ali'"
      ]
     },
     "execution_count": 2,
     "metadata": {},
     "output_type": "execute_result"
    }
   ],
   "source": [
    "age"
   ]
  },
  {
   "cell_type": "code",
   "execution_count": 4,
   "id": "67aa2c0d-85fd-4f2a-866c-802458b9e8c9",
   "metadata": {},
   "outputs": [],
   "source": [
    "# int(age) * 2"
   ]
  },
  {
   "cell_type": "code",
   "execution_count": 5,
   "id": "621de08d-ad7f-42cd-97a0-966047d1a310",
   "metadata": {},
   "outputs": [],
   "source": [
    "# try - except"
   ]
  },
  {
   "cell_type": "code",
   "execution_count": 10,
   "id": "8fafcec6-44b0-4dd1-bda5-9519f28e2aab",
   "metadata": {},
   "outputs": [
    {
     "name": "stdin",
     "output_type": "stream",
     "text": [
      "enter age:  a\n"
     ]
    },
    {
     "name": "stdout",
     "output_type": "stream",
     "text": [
      "incorrect input\n",
      "finally\n"
     ]
    },
    {
     "name": "stdin",
     "output_type": "stream",
     "text": [
      "enter age:  b\n"
     ]
    },
    {
     "name": "stdout",
     "output_type": "stream",
     "text": [
      "incorrect input\n",
      "finally\n"
     ]
    },
    {
     "name": "stdin",
     "output_type": "stream",
     "text": [
      "enter age:  10\n"
     ]
    },
    {
     "name": "stdout",
     "output_type": "stream",
     "text": [
      "20\n",
      "finally\n"
     ]
    }
   ],
   "source": [
    "while True:\n",
    "    try:\n",
    "        myAge = int(input(\"enter age: \"))\n",
    "        print(myAge*2)\n",
    "        break\n",
    "    except ValueError:\n",
    "        print(\"incorrect input\")\n",
    "    else:\n",
    "        print(\"else executed\")\n",
    "    finally:\n",
    "        print(\"finally\")"
   ]
  },
  {
   "cell_type": "code",
   "execution_count": 13,
   "id": "65bfb95f-e572-4fab-ae48-e013297d70bf",
   "metadata": {},
   "outputs": [
    {
     "name": "stdin",
     "output_type": "stream",
     "text": [
      "enter age:  a\n"
     ]
    },
    {
     "name": "stdout",
     "output_type": "stream",
     "text": [
      "incorrect input\n",
      "finally\n"
     ]
    },
    {
     "name": "stdin",
     "output_type": "stream",
     "text": [
      "enter age:  1\n"
     ]
    },
    {
     "name": "stdout",
     "output_type": "stream",
     "text": [
      "2\n",
      "else executed\n",
      "finally\n"
     ]
    }
   ],
   "source": [
    "while True:\n",
    "    try:\n",
    "        myAge = int(input(\"enter age: \"))\n",
    "        print(myAge*2)\n",
    "    except ValueError:\n",
    "        print(\"incorrect input\")\n",
    "    else:\n",
    "        print(\"else executed\")\n",
    "        break\n",
    "    finally:\n",
    "        print(\"finally\")\n",
    "# else try'dan sonra calistirilir - eger program try'da bitmemisse-break yardımıyla!"
   ]
  },
  {
   "cell_type": "code",
   "execution_count": null,
   "id": "b2b2c80a-d7dd-411b-8f2a-3420b66f4aab",
   "metadata": {},
   "outputs": [],
   "source": []
  }
 ],
 "metadata": {
  "kernelspec": {
   "display_name": "Python [conda env:base] *",
   "language": "python",
   "name": "conda-base-py"
  },
  "language_info": {
   "codemirror_mode": {
    "name": "ipython",
    "version": 3
   },
   "file_extension": ".py",
   "mimetype": "text/x-python",
   "name": "python",
   "nbconvert_exporter": "python",
   "pygments_lexer": "ipython3",
   "version": "3.11.7"
  }
 },
 "nbformat": 4,
 "nbformat_minor": 5
}
