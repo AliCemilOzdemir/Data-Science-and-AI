{
 "cells": [
  {
   "cell_type": "code",
   "execution_count": 1,
   "id": "808ea391-6daa-4fd2-ba81-663e3776468f",
   "metadata": {},
   "outputs": [],
   "source": [
    "name : str = \"Ali Cemil\""
   ]
  },
  {
   "cell_type": "code",
   "execution_count": 2,
   "id": "1691b2f4-1b67-42f5-938c-1fc7bb43ba31",
   "metadata": {},
   "outputs": [],
   "source": [
    "surname : str = 28"
   ]
  },
  {
   "cell_type": "code",
   "execution_count": 3,
   "id": "07117841-0e4e-481c-9bf2-ba38bf17cc0e",
   "metadata": {},
   "outputs": [
    {
     "data": {
      "text/plain": [
       "int"
      ]
     },
     "execution_count": 3,
     "metadata": {},
     "output_type": "execute_result"
    }
   ],
   "source": [
    "type(surname)"
   ]
  },
  {
   "cell_type": "code",
   "execution_count": 4,
   "id": "ab1c7b12-4f49-4a5b-ba07-7303e2f7b7d7",
   "metadata": {},
   "outputs": [],
   "source": [
    "age : int = 30"
   ]
  },
  {
   "cell_type": "code",
   "execution_count": 5,
   "id": "527057ae-18bd-4d6a-a90f-28da520e4b7f",
   "metadata": {},
   "outputs": [],
   "source": [
    "is_student : bool = False"
   ]
  },
  {
   "cell_type": "code",
   "execution_count": 6,
   "id": "4585013b-18be-4654-b6db-420554f683d0",
   "metadata": {},
   "outputs": [],
   "source": [
    "def add_numbers(a:int , b:int ) ->int :\n",
    "    return a + b"
   ]
  },
  {
   "cell_type": "code",
   "execution_count": 8,
   "id": "d0df6046-7601-4d28-ba0b-6baf9108ba17",
   "metadata": {},
   "outputs": [
    {
     "data": {
      "text/plain": [
       "'alicemil'"
      ]
     },
     "execution_count": 8,
     "metadata": {},
     "output_type": "execute_result"
    }
   ],
   "source": [
    "add_numbers(\"ali\",\"cemil\") # dokümantasyon için kullanılır bu"
   ]
  },
  {
   "cell_type": "code",
   "execution_count": 12,
   "id": "7ba7d1ff-e7b1-458a-8968-545018c62ddf",
   "metadata": {},
   "outputs": [],
   "source": [
    "def process_value(value : int | str ) -> str:\n",
    "    if isinstance(value,int):\n",
    "        return f\"processed integer: {value}\"\n",
    "    elif isinstance(value,str):\n",
    "        return f\"processed string: {value}\""
   ]
  },
  {
   "cell_type": "code",
   "execution_count": 13,
   "id": "2390d7cb-40ab-4200-aad1-b42bbbd61c00",
   "metadata": {},
   "outputs": [
    {
     "data": {
      "text/plain": [
       "'processed integer: 50'"
      ]
     },
     "execution_count": 13,
     "metadata": {},
     "output_type": "execute_result"
    }
   ],
   "source": [
    "process_value(50)"
   ]
  },
  {
   "cell_type": "code",
   "execution_count": 14,
   "id": "4891e8c8-e2fc-4716-a96a-b962c6578733",
   "metadata": {},
   "outputs": [],
   "source": [
    "process_value(3.14)"
   ]
  },
  {
   "cell_type": "code",
   "execution_count": 15,
   "id": "cc4cb873-31ab-406d-ab18-9ba996fbc082",
   "metadata": {},
   "outputs": [
    {
     "data": {
      "text/plain": [
       "'processed string: alicemil'"
      ]
     },
     "execution_count": 15,
     "metadata": {},
     "output_type": "execute_result"
    }
   ],
   "source": [
    "process_value(\"alicemil\")"
   ]
  },
  {
   "cell_type": "code",
   "execution_count": 16,
   "id": "6a2b57d9-70c4-42aa-aad9-446bd90d43cf",
   "metadata": {},
   "outputs": [],
   "source": [
    "from typing import List\n",
    "def sum_list(numbers:List[int]) -> int:\n",
    "    return sum(numbers)"
   ]
  },
  {
   "cell_type": "code",
   "execution_count": 17,
   "id": "dcd970fe-c0a1-47f3-b8ca-f083287ee094",
   "metadata": {},
   "outputs": [],
   "source": [
    "numbers = [1,2,3,4]"
   ]
  },
  {
   "cell_type": "code",
   "execution_count": 18,
   "id": "ce0d4cf0-2df4-4c31-8f14-5a82ad27e3f7",
   "metadata": {},
   "outputs": [],
   "source": [
    "total = sum_list(numbers)"
   ]
  },
  {
   "cell_type": "code",
   "execution_count": 19,
   "id": "3755afeb-556e-4211-acbd-b91171981bb4",
   "metadata": {},
   "outputs": [
    {
     "data": {
      "text/plain": [
       "10"
      ]
     },
     "execution_count": 19,
     "metadata": {},
     "output_type": "execute_result"
    }
   ],
   "source": [
    "total"
   ]
  },
  {
   "cell_type": "code",
   "execution_count": null,
   "id": "22ec5859-ee92-4138-85f4-c9cfb9dd90f5",
   "metadata": {},
   "outputs": [],
   "source": []
  }
 ],
 "metadata": {
  "kernelspec": {
   "display_name": "Python [conda env:base] *",
   "language": "python",
   "name": "conda-base-py"
  },
  "language_info": {
   "codemirror_mode": {
    "name": "ipython",
    "version": 3
   },
   "file_extension": ".py",
   "mimetype": "text/x-python",
   "name": "python",
   "nbconvert_exporter": "python",
   "pygments_lexer": "ipython3",
   "version": "3.11.7"
  }
 },
 "nbformat": 4,
 "nbformat_minor": 5
}
