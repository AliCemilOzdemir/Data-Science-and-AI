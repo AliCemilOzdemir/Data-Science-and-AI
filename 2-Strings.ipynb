{
 "cells": [
  {
   "cell_type": "code",
   "execution_count": 1,
   "id": "f2a30f2d-c009-4d2c-8231-b374a6c57f7a",
   "metadata": {},
   "outputs": [
    {
     "data": {
      "text/plain": [
       "'hello world'"
      ]
     },
     "execution_count": 1,
     "metadata": {},
     "output_type": "execute_result"
    }
   ],
   "source": [
    "\"hello world\""
   ]
  },
  {
   "cell_type": "code",
   "execution_count": 2,
   "id": "abe4f030-8938-4f7e-87e9-6deadd3a0758",
   "metadata": {},
   "outputs": [
    {
     "name": "stdout",
     "output_type": "stream",
     "text": [
      "hello world\n"
     ]
    }
   ],
   "source": [
    "print(\"hello world\")"
   ]
  },
  {
   "cell_type": "code",
   "execution_count": 3,
   "id": "89752158-a0a0-4721-a144-342bc58835f3",
   "metadata": {},
   "outputs": [],
   "source": [
    "name = \"ali cemil\""
   ]
  },
  {
   "cell_type": "code",
   "execution_count": 4,
   "id": "f7159d40-2061-4e04-9f09-f8c2ebae3593",
   "metadata": {},
   "outputs": [
    {
     "data": {
      "text/plain": [
       "str"
      ]
     },
     "execution_count": 4,
     "metadata": {},
     "output_type": "execute_result"
    }
   ],
   "source": [
    "type(name)"
   ]
  },
  {
   "cell_type": "code",
   "execution_count": 5,
   "id": "28a74947-ffe8-4ab6-b9e3-4e9065e88083",
   "metadata": {},
   "outputs": [
    {
     "data": {
      "text/plain": [
       "'ali cemil'"
      ]
     },
     "execution_count": 5,
     "metadata": {},
     "output_type": "execute_result"
    }
   ],
   "source": [
    "'ali cemil'"
   ]
  },
  {
   "cell_type": "code",
   "execution_count": 6,
   "id": "48fb9bf5-ebcf-474d-913c-80dcecaab37f",
   "metadata": {},
   "outputs": [
    {
     "data": {
      "text/plain": [
       "\"ali cemil'in jupyter notebook'u\""
      ]
     },
     "execution_count": 6,
     "metadata": {},
     "output_type": "execute_result"
    }
   ],
   "source": [
    "\"ali cemil'in jupyter notebook'u\""
   ]
  },
  {
   "cell_type": "code",
   "execution_count": 7,
   "id": "58edf9ec-c26f-49e8-a21d-97fb0a1c4a4d",
   "metadata": {},
   "outputs": [],
   "source": [
    "name = \"ali\""
   ]
  },
  {
   "cell_type": "code",
   "execution_count": 8,
   "id": "c682c309-0de4-466f-ad0a-8b3ea876cfcc",
   "metadata": {},
   "outputs": [
    {
     "data": {
      "text/plain": [
       "str"
      ]
     },
     "execution_count": 8,
     "metadata": {},
     "output_type": "execute_result"
    }
   ],
   "source": [
    "type(name)"
   ]
  },
  {
   "cell_type": "code",
   "execution_count": 9,
   "id": "d797d3bc-ac66-4a31-9628-f8a084932f4b",
   "metadata": {},
   "outputs": [],
   "source": [
    "name = \"ali cemil ozdemir\""
   ]
  },
  {
   "cell_type": "code",
   "execution_count": 10,
   "id": "f4d33804-c1a7-418d-942c-c0f2a53ea4a4",
   "metadata": {},
   "outputs": [
    {
     "data": {
      "text/plain": [
       "True"
      ]
     },
     "execution_count": 10,
     "metadata": {},
     "output_type": "execute_result"
    }
   ],
   "source": [
    "name.islower()"
   ]
  },
  {
   "cell_type": "code",
   "execution_count": 11,
   "id": "a099bedf-94c2-43ec-91be-2e2f7227946a",
   "metadata": {},
   "outputs": [
    {
     "data": {
      "text/plain": [
       "'Ali cemil ozdemir'"
      ]
     },
     "execution_count": 11,
     "metadata": {},
     "output_type": "execute_result"
    }
   ],
   "source": [
    "name.capitalize()"
   ]
  },
  {
   "cell_type": "code",
   "execution_count": 12,
   "id": "f9540e99-fc2a-4e6d-8d00-33caa44d630d",
   "metadata": {},
   "outputs": [],
   "source": [
    "x = 10"
   ]
  },
  {
   "cell_type": "code",
   "execution_count": 13,
   "id": "7b09dc8f-b4eb-4f1a-a3c9-3ad5b07f3e27",
   "metadata": {},
   "outputs": [
    {
     "data": {
      "text/plain": [
       "b'\\n'"
      ]
     },
     "execution_count": 13,
     "metadata": {},
     "output_type": "execute_result"
    }
   ],
   "source": [
    "x.to_bytes()"
   ]
  },
  {
   "cell_type": "code",
   "execution_count": 14,
   "id": "320616aa-166e-4528-b895-fc79749a0ffc",
   "metadata": {},
   "outputs": [],
   "source": [
    "x = 8"
   ]
  },
  {
   "cell_type": "code",
   "execution_count": 15,
   "id": "eeff9ab6-7fae-4048-9b18-ed69be34d904",
   "metadata": {},
   "outputs": [
    {
     "data": {
      "text/plain": [
       "'ali cemil ozdemir'"
      ]
     },
     "execution_count": 15,
     "metadata": {},
     "output_type": "execute_result"
    }
   ],
   "source": [
    "name"
   ]
  },
  {
   "cell_type": "code",
   "execution_count": 16,
   "id": "c9b49357-d2f3-436b-a798-926f51c8422d",
   "metadata": {},
   "outputs": [
    {
     "data": {
      "text/plain": [
       "'Ali cemil ozdemir'"
      ]
     },
     "execution_count": 16,
     "metadata": {},
     "output_type": "execute_result"
    }
   ],
   "source": [
    "name.capitalize()"
   ]
  },
  {
   "cell_type": "code",
   "execution_count": 17,
   "id": "c86ea3fa-b024-4d47-b959-ed65d2500e0f",
   "metadata": {},
   "outputs": [
    {
     "data": {
      "text/plain": [
       "\u001b[1;31mDocstring:\u001b[0m\n",
       "S.count(sub[, start[, end]]) -> int\n",
       "\n",
       "Return the number of non-overlapping occurrences of substring sub in\n",
       "string S[start:end].  Optional arguments start and end are\n",
       "interpreted as in slice notation.\n",
       "\u001b[1;31mType:\u001b[0m      builtin_function_or_method"
      ]
     },
     "metadata": {},
     "output_type": "display_data"
    }
   ],
   "source": [
    "name.count?"
   ]
  },
  {
   "cell_type": "code",
   "execution_count": 18,
   "id": "a4a8aec7-62c7-45fa-aedd-e201a36c3908",
   "metadata": {},
   "outputs": [
    {
     "name": "stdout",
     "output_type": "stream",
     "text": [
      "Help on built-in function count:\n",
      "\n",
      "count(...) method of builtins.str instance\n",
      "    S.count(sub[, start[, end]]) -> int\n",
      "    \n",
      "    Return the number of non-overlapping occurrences of substring sub in\n",
      "    string S[start:end].  Optional arguments start and end are\n",
      "    interpreted as in slice notation.\n",
      "\n"
     ]
    }
   ],
   "source": [
    "help(name.count)"
   ]
  },
  {
   "cell_type": "code",
   "execution_count": 19,
   "id": "48bb9287-e416-4788-b232-83b90b86356a",
   "metadata": {},
   "outputs": [
    {
     "data": {
      "text/plain": [
       "'Ali cemil'"
      ]
     },
     "execution_count": 19,
     "metadata": {},
     "output_type": "execute_result"
    }
   ],
   "source": [
    "\"ali cemil\".capitalize()"
   ]
  },
  {
   "cell_type": "code",
   "execution_count": 20,
   "id": "91c4ff9e-2203-41e7-b11a-c720dea1c7c3",
   "metadata": {},
   "outputs": [
    {
     "data": {
      "text/plain": [
       "1"
      ]
     },
     "execution_count": 20,
     "metadata": {},
     "output_type": "execute_result"
    }
   ],
   "source": [
    "name.count(\"a\")"
   ]
  },
  {
   "cell_type": "code",
   "execution_count": 21,
   "id": "b7730002-150d-4461-b78a-0ad6d1ac1e60",
   "metadata": {},
   "outputs": [
    {
     "data": {
      "text/plain": [
       "'ALI CEMIL OZDEMIR'"
      ]
     },
     "execution_count": 21,
     "metadata": {},
     "output_type": "execute_result"
    }
   ],
   "source": [
    "name.upper()"
   ]
  },
  {
   "cell_type": "code",
   "execution_count": 22,
   "id": "2a716027-1168-46a1-8c8f-946b585e1e70",
   "metadata": {},
   "outputs": [
    {
     "data": {
      "text/plain": [
       "'ali cemil ozdemir'"
      ]
     },
     "execution_count": 22,
     "metadata": {},
     "output_type": "execute_result"
    }
   ],
   "source": [
    "name"
   ]
  },
  {
   "cell_type": "code",
   "execution_count": 23,
   "id": "57a345e7-51b0-4704-afc9-c7e367045909",
   "metadata": {},
   "outputs": [],
   "source": [
    "x = 10\n",
    "y = 5"
   ]
  },
  {
   "cell_type": "code",
   "execution_count": 24,
   "id": "4cac6392-5a2c-4782-a0aa-5d6048cc0a12",
   "metadata": {},
   "outputs": [
    {
     "data": {
      "text/plain": [
       "15"
      ]
     },
     "execution_count": 24,
     "metadata": {},
     "output_type": "execute_result"
    }
   ],
   "source": [
    "x + y"
   ]
  },
  {
   "cell_type": "code",
   "execution_count": 25,
   "id": "18946c4a-7992-4606-8ffa-2d48e3c3f72b",
   "metadata": {},
   "outputs": [],
   "source": [
    "z = x+y"
   ]
  },
  {
   "cell_type": "code",
   "execution_count": 26,
   "id": "a4a9201f-fac0-46c0-bc13-aa5e3c1f8d83",
   "metadata": {},
   "outputs": [
    {
     "data": {
      "text/plain": [
       "15"
      ]
     },
     "execution_count": 26,
     "metadata": {},
     "output_type": "execute_result"
    }
   ],
   "source": [
    "z"
   ]
  },
  {
   "cell_type": "code",
   "execution_count": 27,
   "id": "b244262f-9702-48ba-86c5-0419bee39646",
   "metadata": {},
   "outputs": [
    {
     "data": {
      "text/plain": [
       "'ali cemil ozdemir'"
      ]
     },
     "execution_count": 27,
     "metadata": {},
     "output_type": "execute_result"
    }
   ],
   "source": [
    "name"
   ]
  },
  {
   "cell_type": "code",
   "execution_count": 28,
   "id": "bdad7db2-5b22-4d0c-b3a8-c3d1593cb390",
   "metadata": {},
   "outputs": [],
   "source": [
    "nameUpper = name.upper()"
   ]
  },
  {
   "cell_type": "code",
   "execution_count": 29,
   "id": "c8f977d7-4e00-4345-bce3-db8c3332edc9",
   "metadata": {},
   "outputs": [
    {
     "data": {
      "text/plain": [
       "'ALI CEMIL OZDEMIR'"
      ]
     },
     "execution_count": 29,
     "metadata": {},
     "output_type": "execute_result"
    }
   ],
   "source": [
    "nameUpper"
   ]
  },
  {
   "cell_type": "code",
   "execution_count": 30,
   "id": "e621a76b-4c59-4e6e-a4d7-24a57fa56f3a",
   "metadata": {},
   "outputs": [
    {
     "data": {
      "text/plain": [
       "'ali cemil ozdemir'"
      ]
     },
     "execution_count": 30,
     "metadata": {},
     "output_type": "execute_result"
    }
   ],
   "source": [
    "name"
   ]
  },
  {
   "cell_type": "code",
   "execution_count": 31,
   "id": "d9d7b86f-963a-47a3-aea9-8008813ed01c",
   "metadata": {},
   "outputs": [
    {
     "name": "stdout",
     "output_type": "stream",
     "text": [
      "ALI CEMIL OZDEMIR\n"
     ]
    }
   ],
   "source": [
    "print(name.upper())"
   ]
  },
  {
   "cell_type": "code",
   "execution_count": 32,
   "id": "fbb74805-829b-4afd-88fc-35ef9ce7d1a6",
   "metadata": {},
   "outputs": [
    {
     "name": "stdout",
     "output_type": "stream",
     "text": [
      "Help on built-in function upper:\n",
      "\n",
      "upper() method of builtins.str instance\n",
      "    Return a copy of the string converted to uppercase.\n",
      "\n"
     ]
    }
   ],
   "source": [
    "help(name.upper)"
   ]
  },
  {
   "cell_type": "code",
   "execution_count": 33,
   "id": "a1ecaf21-37ea-40e9-b14f-bb530dff1914",
   "metadata": {},
   "outputs": [
    {
     "data": {
      "text/plain": [
       "17"
      ]
     },
     "execution_count": 33,
     "metadata": {},
     "output_type": "execute_result"
    }
   ],
   "source": [
    "len(name) # length"
   ]
  },
  {
   "cell_type": "code",
   "execution_count": 34,
   "id": "1782dab7-c773-46e4-baff-e87ea251d407",
   "metadata": {},
   "outputs": [
    {
     "data": {
      "text/plain": [
       "9"
      ]
     },
     "execution_count": 34,
     "metadata": {},
     "output_type": "execute_result"
    }
   ],
   "source": [
    "len(\"ali cemil\")"
   ]
  },
  {
   "cell_type": "code",
   "execution_count": 35,
   "id": "1ed632d3-8c2e-4cdc-aace-9d2a2da0545f",
   "metadata": {},
   "outputs": [
    {
     "name": "stdout",
     "output_type": "stream",
     "text": [
      "ali cemil\n"
     ]
    }
   ],
   "source": [
    "print(\"ali cemil\")"
   ]
  },
  {
   "cell_type": "code",
   "execution_count": 36,
   "id": "16d99bbd-a5c8-4f53-827b-26bc37847595",
   "metadata": {},
   "outputs": [
    {
     "name": "stdout",
     "output_type": "stream",
     "text": [
      "ali\n",
      "cemil\n"
     ]
    }
   ],
   "source": [
    "print(\"ali\\ncemil\") #escape characters"
   ]
  },
  {
   "cell_type": "code",
   "execution_count": 37,
   "id": "6c511d81-0e2e-4b8b-a502-6546155eb83c",
   "metadata": {},
   "outputs": [
    {
     "name": "stdout",
     "output_type": "stream",
     "text": [
      "ali\tcemil\n"
     ]
    }
   ],
   "source": [
    "# \\t -> tab\n",
    "print(\"ali\\tcemil\")"
   ]
  },
  {
   "cell_type": "markdown",
   "id": "523c4793-efa7-4a38-85d9-7b3893e1144d",
   "metadata": {},
   "source": [
    "## index"
   ]
  },
  {
   "cell_type": "code",
   "execution_count": 38,
   "id": "e04b000f-212d-4453-b0f9-10a5f1d57558",
   "metadata": {},
   "outputs": [],
   "source": [
    "myString = \"hello python\""
   ]
  },
  {
   "cell_type": "code",
   "execution_count": 39,
   "id": "b25c4509-926f-4b18-bfe4-1bbb146c56af",
   "metadata": {},
   "outputs": [
    {
     "data": {
      "text/plain": [
       "'hello python'"
      ]
     },
     "execution_count": 39,
     "metadata": {},
     "output_type": "execute_result"
    }
   ],
   "source": [
    "myString"
   ]
  },
  {
   "cell_type": "code",
   "execution_count": 40,
   "id": "f9f7b7f6-70be-4e1f-9648-de3ee8bc8643",
   "metadata": {},
   "outputs": [
    {
     "data": {
      "text/plain": [
       "'h'"
      ]
     },
     "execution_count": 40,
     "metadata": {},
     "output_type": "execute_result"
    }
   ],
   "source": [
    "myString[0]"
   ]
  },
  {
   "cell_type": "code",
   "execution_count": 41,
   "id": "96fe0c4a-fd8c-4443-a268-d6f0b231a592",
   "metadata": {},
   "outputs": [
    {
     "data": {
      "text/plain": [
       "'o'"
      ]
     },
     "execution_count": 41,
     "metadata": {},
     "output_type": "execute_result"
    }
   ],
   "source": [
    "myString[4]"
   ]
  },
  {
   "cell_type": "code",
   "execution_count": 43,
   "id": "0a7789b4-b141-47a9-94d9-b698fbd36200",
   "metadata": {},
   "outputs": [
    {
     "data": {
      "text/plain": [
       "'o'"
      ]
     },
     "execution_count": 43,
     "metadata": {},
     "output_type": "execute_result"
    }
   ],
   "source": [
    "myString[10]"
   ]
  },
  {
   "cell_type": "code",
   "execution_count": 44,
   "id": "d15c4832-4999-4ba1-806b-9efa0af70033",
   "metadata": {},
   "outputs": [
    {
     "data": {
      "text/plain": [
       "'hello python'"
      ]
     },
     "execution_count": 44,
     "metadata": {},
     "output_type": "execute_result"
    }
   ],
   "source": [
    "myString"
   ]
  },
  {
   "cell_type": "code",
   "execution_count": 45,
   "id": "00eaa84c-681c-4f33-aff7-b3b941ffef19",
   "metadata": {},
   "outputs": [
    {
     "data": {
      "text/plain": [
       "12"
      ]
     },
     "execution_count": 45,
     "metadata": {},
     "output_type": "execute_result"
    }
   ],
   "source": [
    "len(myString)"
   ]
  },
  {
   "cell_type": "code",
   "execution_count": 46,
   "id": "284d89c3-3dc0-4b08-ab05-4a616621809d",
   "metadata": {},
   "outputs": [
    {
     "data": {
      "text/plain": [
       "'n'"
      ]
     },
     "execution_count": 46,
     "metadata": {},
     "output_type": "execute_result"
    }
   ],
   "source": [
    "myString[-1]"
   ]
  },
  {
   "cell_type": "code",
   "execution_count": 47,
   "id": "b9febcbd-17c0-4037-aa93-2e5623be7962",
   "metadata": {},
   "outputs": [],
   "source": [
    "myName = \"james hetfield\""
   ]
  },
  {
   "cell_type": "code",
   "execution_count": 48,
   "id": "eca04b4e-36c8-4c79-8851-9f0ead434854",
   "metadata": {},
   "outputs": [
    {
     "data": {
      "text/plain": [
       "'d'"
      ]
     },
     "execution_count": 48,
     "metadata": {},
     "output_type": "execute_result"
    }
   ],
   "source": [
    "myName[len(myName) - 1]"
   ]
  },
  {
   "cell_type": "code",
   "execution_count": 49,
   "id": "6ebd9266-cdd8-4bed-82cb-3a80f3c9fff8",
   "metadata": {},
   "outputs": [
    {
     "data": {
      "text/plain": [
       "'d'"
      ]
     },
     "execution_count": 49,
     "metadata": {},
     "output_type": "execute_result"
    }
   ],
   "source": [
    "myName[-1]"
   ]
  },
  {
   "cell_type": "code",
   "execution_count": 50,
   "id": "8b6f3ebb-7573-4878-9b7b-ee5227ec2a3c",
   "metadata": {},
   "outputs": [
    {
     "data": {
      "text/plain": [
       "'l'"
      ]
     },
     "execution_count": 50,
     "metadata": {},
     "output_type": "execute_result"
    }
   ],
   "source": [
    "myName[-2]"
   ]
  },
  {
   "cell_type": "code",
   "execution_count": 51,
   "id": "0844bf51-2606-4903-9684-336e75b6c88b",
   "metadata": {},
   "outputs": [],
   "source": [
    "barcode = \"ABCDE10280283\""
   ]
  },
  {
   "cell_type": "code",
   "execution_count": 52,
   "id": "190cab72-023d-4bd4-b784-15a478c4f5a2",
   "metadata": {},
   "outputs": [
    {
     "data": {
      "text/plain": [
       "'A'"
      ]
     },
     "execution_count": 52,
     "metadata": {},
     "output_type": "execute_result"
    }
   ],
   "source": [
    "barcode[0]"
   ]
  },
  {
   "cell_type": "code",
   "execution_count": 53,
   "id": "5a61f4ca-f5ae-4d3d-a77b-c9fcdfc26254",
   "metadata": {},
   "outputs": [
    {
     "data": {
      "text/plain": [
       "'ab'"
      ]
     },
     "execution_count": 53,
     "metadata": {},
     "output_type": "execute_result"
    }
   ],
   "source": [
    "\"a\"+\"b\""
   ]
  },
  {
   "cell_type": "code",
   "execution_count": 54,
   "id": "e1554543-02e6-4467-ab8e-8f776b4dfb25",
   "metadata": {},
   "outputs": [],
   "source": [
    "name = \"ali cemil \""
   ]
  },
  {
   "cell_type": "code",
   "execution_count": 55,
   "id": "cd73cc98-fad7-4e64-af0f-52892be6016e",
   "metadata": {},
   "outputs": [],
   "source": [
    "surname = \"ozdemir\""
   ]
  },
  {
   "cell_type": "code",
   "execution_count": 56,
   "id": "cdf468d0-2249-4d95-a9f2-8dbb0efda698",
   "metadata": {},
   "outputs": [],
   "source": [
    "full_name = name + surname"
   ]
  },
  {
   "cell_type": "code",
   "execution_count": 58,
   "id": "8a4388cb-65b6-46e5-8a7e-15ddb5afd545",
   "metadata": {},
   "outputs": [
    {
     "data": {
      "text/plain": [
       "'ali cemil ozdemir'"
      ]
     },
     "execution_count": 58,
     "metadata": {},
     "output_type": "execute_result"
    }
   ],
   "source": [
    "full_name"
   ]
  },
  {
   "cell_type": "code",
   "execution_count": 59,
   "id": "75a392db-e2c7-410c-bef6-ea5bc564e355",
   "metadata": {},
   "outputs": [
    {
     "data": {
      "text/plain": [
       "'ali cemil ozdemirali cemil ozdemirali cemil ozdemirali cemil ozdemirali cemil ozdemir'"
      ]
     },
     "execution_count": 59,
     "metadata": {},
     "output_type": "execute_result"
    }
   ],
   "source": [
    "full_name * 5"
   ]
  },
  {
   "cell_type": "code",
   "execution_count": 60,
   "id": "23220cc2-f695-4c4c-b6cf-0a9871ed55d2",
   "metadata": {},
   "outputs": [
    {
     "data": {
      "text/plain": [
       "'----------------------------------------------------------------------------------------------------'"
      ]
     },
     "execution_count": 60,
     "metadata": {},
     "output_type": "execute_result"
    }
   ],
   "source": [
    "100 * \"-\""
   ]
  },
  {
   "cell_type": "code",
   "execution_count": 61,
   "id": "fea2ad28-c693-4b9f-8b6e-38606620aac6",
   "metadata": {},
   "outputs": [
    {
     "data": {
      "text/plain": [
       "'ABCDE10280283'"
      ]
     },
     "execution_count": 61,
     "metadata": {},
     "output_type": "execute_result"
    }
   ],
   "source": [
    "barcode"
   ]
  },
  {
   "cell_type": "code",
   "execution_count": 62,
   "id": "4963f130-96e8-42c6-94ad-ccb9bd519185",
   "metadata": {},
   "outputs": [
    {
     "data": {
      "text/plain": [
       "'ABC'"
      ]
     },
     "execution_count": 62,
     "metadata": {},
     "output_type": "execute_result"
    }
   ],
   "source": [
    "barcode[0] + barcode[1] + barcode[2]"
   ]
  },
  {
   "cell_type": "code",
   "execution_count": 63,
   "id": "cbb8a29e-2320-4591-803d-21a3e1f02052",
   "metadata": {},
   "outputs": [],
   "source": [
    "# barcode[starting index:stopping index:stepping size]"
   ]
  },
  {
   "cell_type": "code",
   "execution_count": 64,
   "id": "894b3eef-ccaf-47c5-b6b6-145995312510",
   "metadata": {},
   "outputs": [
    {
     "data": {
      "text/plain": [
       "'DE10280283'"
      ]
     },
     "execution_count": 64,
     "metadata": {},
     "output_type": "execute_result"
    }
   ],
   "source": [
    "barcode[3::]"
   ]
  },
  {
   "cell_type": "code",
   "execution_count": 65,
   "id": "7a5a2690-b6a3-4d96-87d2-b9a10be5a151",
   "metadata": {},
   "outputs": [
    {
     "data": {
      "text/plain": [
       "'ABC'"
      ]
     },
     "execution_count": 65,
     "metadata": {},
     "output_type": "execute_result"
    }
   ],
   "source": [
    "barcode[:3:]"
   ]
  },
  {
   "cell_type": "code",
   "execution_count": 66,
   "id": "744361ca-0570-4f1d-8f36-c81d117a9ffc",
   "metadata": {},
   "outputs": [
    {
     "data": {
      "text/plain": [
       "'ACE0823'"
      ]
     },
     "execution_count": 66,
     "metadata": {},
     "output_type": "execute_result"
    }
   ],
   "source": [
    "barcode[::2]"
   ]
  },
  {
   "cell_type": "code",
   "execution_count": 67,
   "id": "112228d0-ebcb-4a0e-a1f1-b0f771adf15f",
   "metadata": {},
   "outputs": [
    {
     "data": {
      "text/plain": [
       "'AD003'"
      ]
     },
     "execution_count": 67,
     "metadata": {},
     "output_type": "execute_result"
    }
   ],
   "source": [
    "barcode[::3]"
   ]
  },
  {
   "cell_type": "code",
   "execution_count": 69,
   "id": "d6a7d398-9d21-4b28-b268-bc98893fadb5",
   "metadata": {},
   "outputs": [
    {
     "data": {
      "text/plain": [
       "'DE'"
      ]
     },
     "execution_count": 69,
     "metadata": {},
     "output_type": "execute_result"
    }
   ],
   "source": [
    "barcode[3:5]"
   ]
  },
  {
   "cell_type": "code",
   "execution_count": 70,
   "id": "79389b1e-a294-4ba9-9224-248a39d003f0",
   "metadata": {},
   "outputs": [
    {
     "data": {
      "text/plain": [
       "'BD12'"
      ]
     },
     "execution_count": 70,
     "metadata": {},
     "output_type": "execute_result"
    }
   ],
   "source": [
    "barcode[1:9:2]"
   ]
  },
  {
   "cell_type": "code",
   "execution_count": 71,
   "id": "27bc6f6b-afca-45d6-bef7-a5cc3dc13c95",
   "metadata": {},
   "outputs": [
    {
     "data": {
      "text/plain": [
       "'38208201EDCBA'"
      ]
     },
     "execution_count": 71,
     "metadata": {},
     "output_type": "execute_result"
    }
   ],
   "source": [
    "barcode[::-1]"
   ]
  },
  {
   "cell_type": "code",
   "execution_count": 72,
   "id": "533c676d-326e-43e5-bd80-40ec82b67035",
   "metadata": {},
   "outputs": [],
   "source": [
    "name = \"ali cemil ozdemir\""
   ]
  },
  {
   "cell_type": "code",
   "execution_count": 73,
   "id": "ef87a76f-fa8b-406e-8776-0df509742826",
   "metadata": {},
   "outputs": [
    {
     "name": "stdout",
     "output_type": "stream",
     "text": [
      "Help on built-in function index:\n",
      "\n",
      "index(...) method of builtins.str instance\n",
      "    S.index(sub[, start[, end]]) -> int\n",
      "    \n",
      "    Return the lowest index in S where substring sub is found,\n",
      "    such that sub is contained within S[start:end].  Optional\n",
      "    arguments start and end are interpreted as in slice notation.\n",
      "    \n",
      "    Raises ValueError when the substring is not found.\n",
      "\n"
     ]
    }
   ],
   "source": [
    "help(name.index)"
   ]
  },
  {
   "cell_type": "code",
   "execution_count": 74,
   "id": "a607deb3-51d2-4435-888d-3be1690bd85f",
   "metadata": {},
   "outputs": [
    {
     "data": {
      "text/plain": [
       "2"
      ]
     },
     "execution_count": 74,
     "metadata": {},
     "output_type": "execute_result"
    }
   ],
   "source": [
    "name.index(\"i\")"
   ]
  },
  {
   "cell_type": "code",
   "execution_count": 75,
   "id": "e9356306-c434-4f20-9cfe-f7e719c9a023",
   "metadata": {},
   "outputs": [
    {
     "data": {
      "text/plain": [
       "4"
      ]
     },
     "execution_count": 75,
     "metadata": {},
     "output_type": "execute_result"
    }
   ],
   "source": [
    "name.index(\"cemil\")"
   ]
  },
  {
   "cell_type": "code",
   "execution_count": 76,
   "id": "c20ad7d4-4cb1-43b9-a05e-12e4afd25275",
   "metadata": {},
   "outputs": [
    {
     "data": {
      "text/plain": [
       "['ali', 'cemil', 'ozdemir']"
      ]
     },
     "execution_count": 76,
     "metadata": {},
     "output_type": "execute_result"
    }
   ],
   "source": [
    "name.split()"
   ]
  },
  {
   "cell_type": "code",
   "execution_count": 77,
   "id": "9f1e3e08-abfb-431c-b206-29ad828a382c",
   "metadata": {},
   "outputs": [
    {
     "data": {
      "text/plain": [
       "list"
      ]
     },
     "execution_count": 77,
     "metadata": {},
     "output_type": "execute_result"
    }
   ],
   "source": [
    "type(name.split())"
   ]
  },
  {
   "cell_type": "code",
   "execution_count": null,
   "id": "726b3da9-e810-4170-8bff-c0cc0bb41526",
   "metadata": {},
   "outputs": [],
   "source": []
  }
 ],
 "metadata": {
  "kernelspec": {
   "display_name": "Python [conda env:base] *",
   "language": "python",
   "name": "conda-base-py"
  },
  "language_info": {
   "codemirror_mode": {
    "name": "ipython",
    "version": 3
   },
   "file_extension": ".py",
   "mimetype": "text/x-python",
   "name": "python",
   "nbconvert_exporter": "python",
   "pygments_lexer": "ipython3",
   "version": "3.11.7"
  }
 },
 "nbformat": 4,
 "nbformat_minor": 5
}
