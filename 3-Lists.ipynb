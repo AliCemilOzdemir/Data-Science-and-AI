{
 "cells": [
  {
   "cell_type": "code",
   "execution_count": 1,
   "id": "54db7b42-f3f5-4b88-ae71-8f7cd7c61048",
   "metadata": {},
   "outputs": [],
   "source": [
    "myString = \"Hello Python\""
   ]
  },
  {
   "cell_type": "code",
   "execution_count": 2,
   "id": "7fce8493-530b-4db8-80cf-6085ef52d352",
   "metadata": {},
   "outputs": [
    {
     "data": {
      "text/plain": [
       "['Hello', 'Python']"
      ]
     },
     "execution_count": 2,
     "metadata": {},
     "output_type": "execute_result"
    }
   ],
   "source": [
    "myString.split()"
   ]
  },
  {
   "cell_type": "code",
   "execution_count": 3,
   "id": "df3cbb6f-0b3a-4aac-b462-b90e4e9ff121",
   "metadata": {},
   "outputs": [
    {
     "data": {
      "text/plain": [
       "list"
      ]
     },
     "execution_count": 3,
     "metadata": {},
     "output_type": "execute_result"
    }
   ],
   "source": [
    "type(myString.split())"
   ]
  },
  {
   "cell_type": "code",
   "execution_count": 4,
   "id": "54d5e3a0-e4df-4850-b4b6-019ab9458fef",
   "metadata": {},
   "outputs": [
    {
     "data": {
      "text/plain": [
       "'Hello Python'"
      ]
     },
     "execution_count": 4,
     "metadata": {},
     "output_type": "execute_result"
    }
   ],
   "source": [
    "myString"
   ]
  },
  {
   "cell_type": "code",
   "execution_count": 5,
   "id": "4fdf19ac-22e3-4fb1-9f7c-6069b4dd7633",
   "metadata": {},
   "outputs": [
    {
     "data": {
      "text/plain": [
       "'H'"
      ]
     },
     "execution_count": 5,
     "metadata": {},
     "output_type": "execute_result"
    }
   ],
   "source": [
    "myString[0]"
   ]
  },
  {
   "cell_type": "code",
   "execution_count": 8,
   "id": "7ce01693-bfd0-474b-a479-2673c0ad1cac",
   "metadata": {},
   "outputs": [],
   "source": [
    "# immutable - immutablity"
   ]
  },
  {
   "cell_type": "markdown",
   "id": "86b920fd-3e5b-4b77-8f46-68ef1f7763de",
   "metadata": {},
   "source": [
    "## Lists"
   ]
  },
  {
   "cell_type": "code",
   "execution_count": 9,
   "id": "3f639999-95e1-4d4f-8655-01feb0935ffc",
   "metadata": {},
   "outputs": [],
   "source": [
    "myList = [10,20,30]"
   ]
  },
  {
   "cell_type": "code",
   "execution_count": 10,
   "id": "7b36be08-528b-46db-9ff0-829ca5aa928b",
   "metadata": {},
   "outputs": [
    {
     "data": {
      "text/plain": [
       "list"
      ]
     },
     "execution_count": 10,
     "metadata": {},
     "output_type": "execute_result"
    }
   ],
   "source": [
    "type(myList)"
   ]
  },
  {
   "cell_type": "code",
   "execution_count": 11,
   "id": "17effc39-4584-4952-89cd-c46e416a5aee",
   "metadata": {},
   "outputs": [],
   "source": [
    "x = 10\n",
    "y = 20\n",
    "z = 30"
   ]
  },
  {
   "cell_type": "code",
   "execution_count": 12,
   "id": "85650581-aaaa-410a-a9ba-172020880a02",
   "metadata": {},
   "outputs": [],
   "source": [
    "myList = [x,y,z]"
   ]
  },
  {
   "cell_type": "code",
   "execution_count": 13,
   "id": "0f10cf14-3981-478b-8331-6770efc71587",
   "metadata": {},
   "outputs": [
    {
     "data": {
      "text/plain": [
       "[10, 20, 30]"
      ]
     },
     "execution_count": 13,
     "metadata": {},
     "output_type": "execute_result"
    }
   ],
   "source": [
    "myList"
   ]
  },
  {
   "cell_type": "code",
   "execution_count": 14,
   "id": "38586b2d-9377-4c7f-a399-81585f16d464",
   "metadata": {},
   "outputs": [],
   "source": [
    "myList[0] = 1000"
   ]
  },
  {
   "cell_type": "code",
   "execution_count": 15,
   "id": "7047dac9-92cf-42a0-99ea-366d359c7e60",
   "metadata": {},
   "outputs": [
    {
     "data": {
      "text/plain": [
       "[1000, 20, 30]"
      ]
     },
     "execution_count": 15,
     "metadata": {},
     "output_type": "execute_result"
    }
   ],
   "source": [
    "myList"
   ]
  },
  {
   "cell_type": "code",
   "execution_count": 16,
   "id": "57aa05d9-d136-495c-b334-5c187ab927ea",
   "metadata": {},
   "outputs": [],
   "source": [
    "myList = [x,y,z]"
   ]
  },
  {
   "cell_type": "code",
   "execution_count": 17,
   "id": "2fb2f5bd-251d-4989-a26a-bfff30469ec2",
   "metadata": {},
   "outputs": [
    {
     "data": {
      "text/plain": [
       "list"
      ]
     },
     "execution_count": 17,
     "metadata": {},
     "output_type": "execute_result"
    }
   ],
   "source": [
    "type(myList)"
   ]
  },
  {
   "cell_type": "code",
   "execution_count": 18,
   "id": "ca84a2c3-9c69-40af-b5f8-b0b37f4cf3a5",
   "metadata": {},
   "outputs": [
    {
     "data": {
      "text/plain": [
       "3"
      ]
     },
     "execution_count": 18,
     "metadata": {},
     "output_type": "execute_result"
    }
   ],
   "source": [
    "len(myList)"
   ]
  },
  {
   "cell_type": "code",
   "execution_count": 19,
   "id": "29afc480-2638-47dc-9735-d7326b4a67da",
   "metadata": {},
   "outputs": [
    {
     "data": {
      "text/plain": [
       "30"
      ]
     },
     "execution_count": 19,
     "metadata": {},
     "output_type": "execute_result"
    }
   ],
   "source": [
    "myList[len(myList) - 1]"
   ]
  },
  {
   "cell_type": "code",
   "execution_count": 20,
   "id": "ef670ce4-e6ca-4d5b-ae0d-7a70f94f5a49",
   "metadata": {},
   "outputs": [
    {
     "data": {
      "text/plain": [
       "30"
      ]
     },
     "execution_count": 20,
     "metadata": {},
     "output_type": "execute_result"
    }
   ],
   "source": [
    "myList[-1]"
   ]
  },
  {
   "cell_type": "code",
   "execution_count": 21,
   "id": "ba811d7c-23e6-4d13-8f58-bc871d26257f",
   "metadata": {},
   "outputs": [
    {
     "data": {
      "text/plain": [
       "20"
      ]
     },
     "execution_count": 21,
     "metadata": {},
     "output_type": "execute_result"
    }
   ],
   "source": [
    "myList[-2]"
   ]
  },
  {
   "cell_type": "code",
   "execution_count": 22,
   "id": "e532b3e9-6cf5-41ae-86dd-a84d8089af80",
   "metadata": {},
   "outputs": [],
   "source": [
    "myList.append(40)"
   ]
  },
  {
   "cell_type": "code",
   "execution_count": 23,
   "id": "347c0aa0-7eb2-46bf-ae5a-1dac0808a3d0",
   "metadata": {},
   "outputs": [
    {
     "data": {
      "text/plain": [
       "[10, 20, 30, 40]"
      ]
     },
     "execution_count": 23,
     "metadata": {},
     "output_type": "execute_result"
    }
   ],
   "source": [
    "myList"
   ]
  },
  {
   "cell_type": "code",
   "execution_count": 24,
   "id": "f5ef6954-6686-4dbf-92c2-a22466e47523",
   "metadata": {},
   "outputs": [],
   "source": [
    "myList.append(1)"
   ]
  },
  {
   "cell_type": "code",
   "execution_count": 25,
   "id": "786ab82b-e51b-4971-9c5d-4950572d4471",
   "metadata": {},
   "outputs": [
    {
     "data": {
      "text/plain": [
       "5"
      ]
     },
     "execution_count": 25,
     "metadata": {},
     "output_type": "execute_result"
    }
   ],
   "source": [
    "len(myList)"
   ]
  },
  {
   "cell_type": "code",
   "execution_count": 26,
   "id": "e5c23328-3836-42ab-9fac-228bd6edb90b",
   "metadata": {},
   "outputs": [
    {
     "data": {
      "text/plain": [
       "1"
      ]
     },
     "execution_count": 26,
     "metadata": {},
     "output_type": "execute_result"
    }
   ],
   "source": [
    "myList.count(10)"
   ]
  },
  {
   "cell_type": "code",
   "execution_count": 27,
   "id": "2198e49b-f12f-4790-ad69-d829021f179d",
   "metadata": {},
   "outputs": [],
   "source": [
    "anotherList = [\"ali\",\"cemil\"]"
   ]
  },
  {
   "cell_type": "code",
   "execution_count": 28,
   "id": "ab8fffd4-a22e-44cc-b3be-7663759734da",
   "metadata": {},
   "outputs": [],
   "source": [
    "myList.extend(anotherList)"
   ]
  },
  {
   "cell_type": "code",
   "execution_count": 29,
   "id": "7b0298a7-c490-4b69-99fa-c1a87c8b85b9",
   "metadata": {},
   "outputs": [
    {
     "data": {
      "text/plain": [
       "[10, 20, 30, 40, 1, 'ali', 'cemil']"
      ]
     },
     "execution_count": 29,
     "metadata": {},
     "output_type": "execute_result"
    }
   ],
   "source": [
    "myList"
   ]
  },
  {
   "cell_type": "code",
   "execution_count": 30,
   "id": "7488323e-110d-4684-ae3f-8b5f884b5837",
   "metadata": {},
   "outputs": [],
   "source": [
    "myList.clear()"
   ]
  },
  {
   "cell_type": "code",
   "execution_count": 31,
   "id": "547f4f14-e1df-4cd2-8ab6-bdc455ec3793",
   "metadata": {},
   "outputs": [
    {
     "data": {
      "text/plain": [
       "[]"
      ]
     },
     "execution_count": 31,
     "metadata": {},
     "output_type": "execute_result"
    }
   ],
   "source": [
    "myList"
   ]
  },
  {
   "cell_type": "code",
   "execution_count": 32,
   "id": "5739b118-22bb-4692-9092-1e9080effb92",
   "metadata": {},
   "outputs": [],
   "source": [
    "myList = [10,20,30]"
   ]
  },
  {
   "cell_type": "code",
   "execution_count": 33,
   "id": "3ac1c5d6-e45b-4b55-a601-8f3d57cf08f8",
   "metadata": {},
   "outputs": [
    {
     "data": {
      "text/plain": [
       "[10, 20, 30]"
      ]
     },
     "execution_count": 33,
     "metadata": {},
     "output_type": "execute_result"
    }
   ],
   "source": [
    "myList"
   ]
  },
  {
   "cell_type": "code",
   "execution_count": 34,
   "id": "78e5e6a7-39a5-4b1c-ab02-c0022683d065",
   "metadata": {},
   "outputs": [
    {
     "data": {
      "text/plain": [
       "1"
      ]
     },
     "execution_count": 34,
     "metadata": {},
     "output_type": "execute_result"
    }
   ],
   "source": [
    "myList.index(20)"
   ]
  },
  {
   "cell_type": "code",
   "execution_count": 37,
   "id": "6534c602-1103-4627-bfeb-0f7210daad08",
   "metadata": {},
   "outputs": [
    {
     "data": {
      "text/plain": [
       "[10, 20, 35, 35, 35, 30]"
      ]
     },
     "execution_count": 37,
     "metadata": {},
     "output_type": "execute_result"
    }
   ],
   "source": [
    "myList.insert(2,35)\n",
    "myList"
   ]
  },
  {
   "cell_type": "code",
   "execution_count": 41,
   "id": "1f58c715-1de6-4058-94e9-7b5166eabcaf",
   "metadata": {},
   "outputs": [
    {
     "data": {
      "text/plain": [
       "[10, 20, 35]"
      ]
     },
     "execution_count": 41,
     "metadata": {},
     "output_type": "execute_result"
    }
   ],
   "source": [
    "myList.pop()\n",
    "myList"
   ]
  },
  {
   "cell_type": "code",
   "execution_count": 42,
   "id": "2ff9fddb-1ec7-4b3a-ad8c-1d5de87c4329",
   "metadata": {},
   "outputs": [],
   "source": [
    "myList = [10,20,30]"
   ]
  },
  {
   "cell_type": "code",
   "execution_count": 43,
   "id": "5fbed435-8493-4c02-84f8-1a7c5ddd2e40",
   "metadata": {},
   "outputs": [
    {
     "data": {
      "text/plain": [
       "[10, 20, 30]"
      ]
     },
     "execution_count": 43,
     "metadata": {},
     "output_type": "execute_result"
    }
   ],
   "source": [
    "myList"
   ]
  },
  {
   "cell_type": "code",
   "execution_count": 44,
   "id": "47eb0d29-bf81-4a52-94d7-8281253717c0",
   "metadata": {},
   "outputs": [],
   "source": [
    "myList.remove(30)"
   ]
  },
  {
   "cell_type": "code",
   "execution_count": 45,
   "id": "51b281c5-7e00-42ca-b930-f3b24c057430",
   "metadata": {},
   "outputs": [
    {
     "data": {
      "text/plain": [
       "[10, 20]"
      ]
     },
     "execution_count": 45,
     "metadata": {},
     "output_type": "execute_result"
    }
   ],
   "source": [
    "myList"
   ]
  },
  {
   "cell_type": "code",
   "execution_count": 46,
   "id": "66100a9b-adad-4d8b-b40f-f8b9a8aa69f1",
   "metadata": {},
   "outputs": [],
   "source": [
    "myList.reverse()"
   ]
  },
  {
   "cell_type": "code",
   "execution_count": 47,
   "id": "979f1a5e-9f96-4c19-a3bb-cbfe16248fb7",
   "metadata": {},
   "outputs": [
    {
     "data": {
      "text/plain": [
       "[20, 10]"
      ]
     },
     "execution_count": 47,
     "metadata": {},
     "output_type": "execute_result"
    }
   ],
   "source": [
    "myList"
   ]
  },
  {
   "cell_type": "code",
   "execution_count": 48,
   "id": "a4100c54-e0c9-442f-b8fd-d427a58dca7b",
   "metadata": {},
   "outputs": [],
   "source": [
    "myList.sort()"
   ]
  },
  {
   "cell_type": "code",
   "execution_count": 49,
   "id": "eee88815-03ad-4323-bb79-83a8bd2c1e5a",
   "metadata": {},
   "outputs": [
    {
     "data": {
      "text/plain": [
       "[10, 20]"
      ]
     },
     "execution_count": 49,
     "metadata": {},
     "output_type": "execute_result"
    }
   ],
   "source": [
    "myList"
   ]
  },
  {
   "cell_type": "code",
   "execution_count": 50,
   "id": "a97ff149-042f-4397-8f64-ada2da81a413",
   "metadata": {},
   "outputs": [
    {
     "name": "stdin",
     "output_type": "stream",
     "text": [
      "enter x 10\n"
     ]
    }
   ],
   "source": [
    "x = input(\"enter x\")"
   ]
  },
  {
   "cell_type": "code",
   "execution_count": 51,
   "id": "ad6358b7-e7cd-4e0b-84aa-f306a8b90ced",
   "metadata": {},
   "outputs": [
    {
     "data": {
      "text/plain": [
       "'10'"
      ]
     },
     "execution_count": 51,
     "metadata": {},
     "output_type": "execute_result"
    }
   ],
   "source": [
    "x"
   ]
  },
  {
   "cell_type": "code",
   "execution_count": 52,
   "id": "c36c073d-aee8-4003-b17c-c1304546e846",
   "metadata": {},
   "outputs": [
    {
     "data": {
      "text/plain": [
       "str"
      ]
     },
     "execution_count": 52,
     "metadata": {},
     "output_type": "execute_result"
    }
   ],
   "source": [
    "type(x)"
   ]
  },
  {
   "cell_type": "code",
   "execution_count": 53,
   "id": "cdd0943a-241a-485f-b954-d806c7b73fef",
   "metadata": {},
   "outputs": [
    {
     "name": "stdin",
     "output_type": "stream",
     "text": [
      "Enter y: 20\n"
     ]
    }
   ],
   "source": [
    "y = input(\"Enter y:\")"
   ]
  },
  {
   "cell_type": "code",
   "execution_count": 54,
   "id": "702dfa21-60b8-4f0f-8c92-53135ea354ad",
   "metadata": {},
   "outputs": [
    {
     "name": "stdin",
     "output_type": "stream",
     "text": [
      "Enter z: 30\n"
     ]
    }
   ],
   "source": [
    "z = input(\"Enter z:\")"
   ]
  },
  {
   "cell_type": "code",
   "execution_count": 63,
   "id": "b72d9863-070c-4eb7-842d-92124ddee870",
   "metadata": {},
   "outputs": [],
   "source": [
    "inputList = []"
   ]
  },
  {
   "cell_type": "code",
   "execution_count": 64,
   "id": "6f71fa9e-762f-463e-90bc-75ae84c45715",
   "metadata": {},
   "outputs": [],
   "source": [
    "inputList.append(x)\n",
    "inputList.append(y)\n",
    "inputList.append(z)"
   ]
  },
  {
   "cell_type": "code",
   "execution_count": 65,
   "id": "bab1b430-72c5-4717-bb51-570b750ac9e0",
   "metadata": {},
   "outputs": [
    {
     "data": {
      "text/plain": [
       "['10', '20', '30']"
      ]
     },
     "execution_count": 65,
     "metadata": {},
     "output_type": "execute_result"
    }
   ],
   "source": [
    "inputList"
   ]
  },
  {
   "cell_type": "code",
   "execution_count": 66,
   "id": "e0759e51-25d4-4ab4-bafd-bebac6f122c9",
   "metadata": {},
   "outputs": [
    {
     "data": {
      "text/plain": [
       "'2020'"
      ]
     },
     "execution_count": 66,
     "metadata": {},
     "output_type": "execute_result"
    }
   ],
   "source": [
    "inputList[1] * 2"
   ]
  },
  {
   "cell_type": "code",
   "execution_count": 67,
   "id": "5b4ba44a-1093-4fa0-a34a-5b594c7f4fc1",
   "metadata": {},
   "outputs": [
    {
     "data": {
      "text/plain": [
       "str"
      ]
     },
     "execution_count": 67,
     "metadata": {},
     "output_type": "execute_result"
    }
   ],
   "source": [
    "type(inputList[1])"
   ]
  },
  {
   "cell_type": "code",
   "execution_count": 68,
   "id": "5f2d7579-d6dd-42d0-a13a-eac433a300d1",
   "metadata": {},
   "outputs": [],
   "source": [
    "myInteger = 50"
   ]
  },
  {
   "cell_type": "code",
   "execution_count": 69,
   "id": "3efb55b4-bad8-45f2-9cb9-971f91ad542a",
   "metadata": {},
   "outputs": [
    {
     "data": {
      "text/plain": [
       "'Hello Python'"
      ]
     },
     "execution_count": 69,
     "metadata": {},
     "output_type": "execute_result"
    }
   ],
   "source": [
    "str(myString)"
   ]
  },
  {
   "cell_type": "code",
   "execution_count": 70,
   "id": "14781ea4-dfc3-4785-a714-56dc43f30ebc",
   "metadata": {},
   "outputs": [],
   "source": [
    "myString = \"40\""
   ]
  },
  {
   "cell_type": "code",
   "execution_count": 71,
   "id": "93b4ae8f-3a4d-4dbb-bd86-7fed08ae985e",
   "metadata": {},
   "outputs": [
    {
     "data": {
      "text/plain": [
       "40.0"
      ]
     },
     "execution_count": 71,
     "metadata": {},
     "output_type": "execute_result"
    }
   ],
   "source": [
    "float(myString)"
   ]
  },
  {
   "cell_type": "code",
   "execution_count": 72,
   "id": "e9ce9cb7-4db9-4cd6-bfc0-059f59f95313",
   "metadata": {},
   "outputs": [],
   "source": [
    "myString = \"python\""
   ]
  },
  {
   "cell_type": "code",
   "execution_count": 75,
   "id": "1b3e58fb-d4d9-464f-913e-2a6a281d4d39",
   "metadata": {},
   "outputs": [],
   "source": [
    "#int(myString)\n",
    "#float(myString)"
   ]
  },
  {
   "cell_type": "code",
   "execution_count": 76,
   "id": "ddd7cc31-a334-45fe-816f-3f4e4a4fcf34",
   "metadata": {},
   "outputs": [
    {
     "data": {
      "text/plain": [
       "['10', '20', '30']"
      ]
     },
     "execution_count": 76,
     "metadata": {},
     "output_type": "execute_result"
    }
   ],
   "source": [
    "inputList"
   ]
  },
  {
   "cell_type": "code",
   "execution_count": 77,
   "id": "a936359b-7d0e-469b-8bde-041af5e37384",
   "metadata": {},
   "outputs": [
    {
     "data": {
      "text/plain": [
       "40"
      ]
     },
     "execution_count": 77,
     "metadata": {},
     "output_type": "execute_result"
    }
   ],
   "source": [
    "int(inputList[1]) * 2"
   ]
  },
  {
   "cell_type": "code",
   "execution_count": 78,
   "id": "a2e9fcf0-a4f4-400a-bf67-2b7756235e9a",
   "metadata": {},
   "outputs": [
    {
     "data": {
      "text/plain": [
       "\"['10', '20', '30']\""
      ]
     },
     "execution_count": 78,
     "metadata": {},
     "output_type": "execute_result"
    }
   ],
   "source": [
    "str(inputList)"
   ]
  },
  {
   "cell_type": "code",
   "execution_count": 79,
   "id": "4ad849ae-dfe9-4f34-a1a0-2f72a30dd17b",
   "metadata": {},
   "outputs": [
    {
     "data": {
      "text/plain": [
       "'['"
      ]
     },
     "execution_count": 79,
     "metadata": {},
     "output_type": "execute_result"
    }
   ],
   "source": [
    "str(inputList)[0]"
   ]
  },
  {
   "cell_type": "code",
   "execution_count": 80,
   "id": "e5ce7ff9-ee53-4d41-9256-17be5d37fd50",
   "metadata": {},
   "outputs": [],
   "source": [
    "nameList = [\"Ali\",\"Cemil\",\"a\",\"b\"]"
   ]
  },
  {
   "cell_type": "code",
   "execution_count": 81,
   "id": "0e678116-e549-4580-b0bd-0bea0bce1c03",
   "metadata": {},
   "outputs": [
    {
     "data": {
      "text/plain": [
       "list"
      ]
     },
     "execution_count": 81,
     "metadata": {},
     "output_type": "execute_result"
    }
   ],
   "source": [
    "type(nameList)"
   ]
  },
  {
   "cell_type": "code",
   "execution_count": 82,
   "id": "19f3ca67-ac99-4ecd-b709-ac0584763121",
   "metadata": {},
   "outputs": [],
   "source": [
    "floatList = [3.12,2.5,10.2,100.123]"
   ]
  },
  {
   "cell_type": "code",
   "execution_count": 83,
   "id": "a0c08db1-be82-4d90-b200-cd1af6a21311",
   "metadata": {},
   "outputs": [],
   "source": [
    "mixedLised = [\"ali\",100,3.14]"
   ]
  },
  {
   "cell_type": "code",
   "execution_count": 84,
   "id": "a0a58ee1-8fa4-48d0-81a4-6833f62fbf04",
   "metadata": {},
   "outputs": [
    {
     "data": {
      "text/plain": [
       "list"
      ]
     },
     "execution_count": 84,
     "metadata": {},
     "output_type": "execute_result"
    }
   ],
   "source": [
    "type(mixedLised)"
   ]
  },
  {
   "cell_type": "code",
   "execution_count": 85,
   "id": "300c7746-f753-4b77-be1b-ba7d244eb1ea",
   "metadata": {},
   "outputs": [],
   "source": [
    "list1 = [10,20,30]"
   ]
  },
  {
   "cell_type": "code",
   "execution_count": 86,
   "id": "b6758ff8-95d2-4340-a69f-1daf61c23f0d",
   "metadata": {},
   "outputs": [],
   "source": [
    "list2 = [40,50,60]"
   ]
  },
  {
   "cell_type": "code",
   "execution_count": 87,
   "id": "941f9882-cf8d-4bea-8ca2-9381f29f067b",
   "metadata": {},
   "outputs": [
    {
     "data": {
      "text/plain": [
       "[10, 20, 30, 40, 50, 60]"
      ]
     },
     "execution_count": 87,
     "metadata": {},
     "output_type": "execute_result"
    }
   ],
   "source": [
    "list1 + list2"
   ]
  },
  {
   "cell_type": "code",
   "execution_count": 88,
   "id": "2e9ec0e8-ab17-4027-8d5a-6782f8840ae7",
   "metadata": {},
   "outputs": [
    {
     "data": {
      "text/plain": [
       "[10, 20, 30, 10, 20, 30]"
      ]
     },
     "execution_count": 88,
     "metadata": {},
     "output_type": "execute_result"
    }
   ],
   "source": [
    "list1 * 2"
   ]
  },
  {
   "cell_type": "code",
   "execution_count": 89,
   "id": "02ab347e-b81c-40fc-acd5-01b7fd480b4f",
   "metadata": {},
   "outputs": [
    {
     "data": {
      "text/plain": [
       "[]"
      ]
     },
     "execution_count": 89,
     "metadata": {},
     "output_type": "execute_result"
    }
   ],
   "source": [
    "list1*0"
   ]
  },
  {
   "cell_type": "code",
   "execution_count": 91,
   "id": "dbf53b85-ca58-403e-98ee-4406b0e6c6bf",
   "metadata": {},
   "outputs": [
    {
     "data": {
      "text/plain": [
       "int"
      ]
     },
     "execution_count": 91,
     "metadata": {},
     "output_type": "execute_result"
    }
   ],
   "source": [
    "type(mixedLised[1])"
   ]
  },
  {
   "cell_type": "code",
   "execution_count": 92,
   "id": "7bb4d092-3d43-48a6-ae42-2dd60bc732bb",
   "metadata": {},
   "outputs": [
    {
     "data": {
      "text/plain": [
       "str"
      ]
     },
     "execution_count": 92,
     "metadata": {},
     "output_type": "execute_result"
    }
   ],
   "source": [
    "type(mixedLised[0])"
   ]
  },
  {
   "cell_type": "code",
   "execution_count": 94,
   "id": "778de128-38b5-427d-a2a8-080875245141",
   "metadata": {},
   "outputs": [
    {
     "data": {
      "text/plain": [
       "float"
      ]
     },
     "execution_count": 94,
     "metadata": {},
     "output_type": "execute_result"
    }
   ],
   "source": [
    "type(mixedLised[2])"
   ]
  },
  {
   "cell_type": "code",
   "execution_count": 95,
   "id": "5f2a7101-156e-4887-97ac-26d06108ed2c",
   "metadata": {},
   "outputs": [],
   "source": [
    "#nestedLise"
   ]
  },
  {
   "cell_type": "code",
   "execution_count": 96,
   "id": "5a86aa5e-fde3-469f-a958-3c2e108b8d40",
   "metadata": {},
   "outputs": [
    {
     "data": {
      "text/plain": [
       "[10, 20, 3.14, 'ali cemil', [1, 2, 3]]"
      ]
     },
     "execution_count": 96,
     "metadata": {},
     "output_type": "execute_result"
    }
   ],
   "source": [
    "myNestedList = [10,20,3.14,\"ali cemil\",[1,2,3]]\n",
    "myNestedList"
   ]
  },
  {
   "cell_type": "code",
   "execution_count": 97,
   "id": "03f0a8fc-933f-47d6-89de-42542b6aea94",
   "metadata": {},
   "outputs": [
    {
     "data": {
      "text/plain": [
       "[1, 2, 3]"
      ]
     },
     "execution_count": 97,
     "metadata": {},
     "output_type": "execute_result"
    }
   ],
   "source": [
    "smallList = myNestedList[-1]\n",
    "smallList"
   ]
  },
  {
   "cell_type": "code",
   "execution_count": 98,
   "id": "540faa4e-4bf5-403b-be35-18b3190a69da",
   "metadata": {},
   "outputs": [
    {
     "data": {
      "text/plain": [
       "2"
      ]
     },
     "execution_count": 98,
     "metadata": {},
     "output_type": "execute_result"
    }
   ],
   "source": [
    "myNestedList[-1][1]"
   ]
  },
  {
   "cell_type": "code",
   "execution_count": 99,
   "id": "a58c8500-9994-4023-93e1-4724baafd79d",
   "metadata": {},
   "outputs": [
    {
     "name": "stdout",
     "output_type": "stream",
     "text": [
      "4\n"
     ]
    },
    {
     "data": {
      "text/plain": [
       "['a', 'b', ['c', 'd', 'e'], 'f']"
      ]
     },
     "execution_count": 99,
     "metadata": {},
     "output_type": "execute_result"
    }
   ],
   "source": [
    "lastList = [\"a\",\"b\",[\"c\",\"d\",\"e\"],\"f\"]\n",
    "print(len(lastList))\n",
    "lastList"
   ]
  },
  {
   "cell_type": "code",
   "execution_count": 100,
   "id": "82d8ccc1-db14-4705-b6bc-6775ba2b5bff",
   "metadata": {},
   "outputs": [],
   "source": [
    "firstList = [10,20,30,40,50,60,70]"
   ]
  },
  {
   "cell_type": "code",
   "execution_count": 101,
   "id": "3221184c-3196-4533-b126-955af3a78187",
   "metadata": {},
   "outputs": [
    {
     "data": {
      "text/plain": [
       "[20, 40, 60]"
      ]
     },
     "execution_count": 101,
     "metadata": {},
     "output_type": "execute_result"
    }
   ],
   "source": [
    "firstList[1:6:2]"
   ]
  },
  {
   "cell_type": "code",
   "execution_count": 102,
   "id": "d3fa79cc-2cd8-425d-9545-faf8ebeb9f5e",
   "metadata": {},
   "outputs": [
    {
     "data": {
      "text/plain": [
       "[70, 60, 50, 40]"
      ]
     },
     "execution_count": 102,
     "metadata": {},
     "output_type": "execute_result"
    }
   ],
   "source": [
    "firstList[-1:2:-1]"
   ]
  },
  {
   "cell_type": "code",
   "execution_count": null,
   "id": "1771a0ef-60ce-443b-801a-51043ca8a4ed",
   "metadata": {},
   "outputs": [],
   "source": []
  }
 ],
 "metadata": {
  "kernelspec": {
   "display_name": "Python [conda env:base] *",
   "language": "python",
   "name": "conda-base-py"
  },
  "language_info": {
   "codemirror_mode": {
    "name": "ipython",
    "version": 3
   },
   "file_extension": ".py",
   "mimetype": "text/x-python",
   "name": "python",
   "nbconvert_exporter": "python",
   "pygments_lexer": "ipython3",
   "version": "3.11.7"
  }
 },
 "nbformat": 4,
 "nbformat_minor": 5
}
