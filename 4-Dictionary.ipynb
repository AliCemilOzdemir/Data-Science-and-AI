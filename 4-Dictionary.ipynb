{
 "cells": [
  {
   "cell_type": "code",
   "execution_count": 1,
   "id": "c540e37d-61d9-44d4-809f-61f08c8ba37a",
   "metadata": {},
   "outputs": [],
   "source": [
    "# key-value pairing"
   ]
  },
  {
   "cell_type": "code",
   "execution_count": 2,
   "id": "8cefd7e0-086b-47cd-a6aa-061436f0d51b",
   "metadata": {},
   "outputs": [],
   "source": [
    "fruit_list = [\"banana\",\"apple\"]\n",
    "calorie_list = [100,150]"
   ]
  },
  {
   "cell_type": "code",
   "execution_count": 3,
   "id": "f21a07f6-546f-4e67-95b2-f593cf007358",
   "metadata": {},
   "outputs": [
    {
     "data": {
      "text/plain": [
       "'banana'"
      ]
     },
     "execution_count": 3,
     "metadata": {},
     "output_type": "execute_result"
    }
   ],
   "source": [
    "fruit_list[0]"
   ]
  },
  {
   "cell_type": "code",
   "execution_count": 4,
   "id": "ff0b4028-a619-4e56-a66b-6a255a787c3f",
   "metadata": {},
   "outputs": [
    {
     "data": {
      "text/plain": [
       "100"
      ]
     },
     "execution_count": 4,
     "metadata": {},
     "output_type": "execute_result"
    }
   ],
   "source": [
    "calorie_list[0]"
   ]
  },
  {
   "cell_type": "code",
   "execution_count": 7,
   "id": "ad96a030-f25e-4793-ad28-da9c526ee54b",
   "metadata": {},
   "outputs": [],
   "source": [
    "fitness_dictionary = {\"banana\" : 100,\n",
    "                        \"apple\" : 150}"
   ]
  },
  {
   "cell_type": "code",
   "execution_count": 8,
   "id": "74142d27-2240-423f-8192-9d3b586746dc",
   "metadata": {},
   "outputs": [
    {
     "data": {
      "text/plain": [
       "dict"
      ]
     },
     "execution_count": 8,
     "metadata": {},
     "output_type": "execute_result"
    }
   ],
   "source": [
    "type(fitness_dictionary)"
   ]
  },
  {
   "cell_type": "code",
   "execution_count": 9,
   "id": "f584fc8d-e715-4626-a208-67e87cf60b50",
   "metadata": {},
   "outputs": [
    {
     "data": {
      "text/plain": [
       "100"
      ]
     },
     "execution_count": 9,
     "metadata": {},
     "output_type": "execute_result"
    }
   ],
   "source": [
    "fitness_dictionary['banana']"
   ]
  },
  {
   "cell_type": "code",
   "execution_count": 10,
   "id": "95432978-6fbe-4430-8758-18e794c4428b",
   "metadata": {},
   "outputs": [
    {
     "data": {
      "text/plain": [
       "150"
      ]
     },
     "execution_count": 10,
     "metadata": {},
     "output_type": "execute_result"
    }
   ],
   "source": [
    "fitness_dictionary['apple']"
   ]
  },
  {
   "cell_type": "code",
   "execution_count": 13,
   "id": "0316e7d7-20c0-4adb-9f6f-8982e966b9f5",
   "metadata": {},
   "outputs": [
    {
     "data": {
      "text/plain": [
       "dict_keys(['banana', 'apple'])"
      ]
     },
     "execution_count": 13,
     "metadata": {},
     "output_type": "execute_result"
    }
   ],
   "source": [
    "fitness_dictionary.keys()"
   ]
  },
  {
   "cell_type": "code",
   "execution_count": 14,
   "id": "f7c2d506-d4d6-48cc-bd22-8e8a505cc506",
   "metadata": {},
   "outputs": [
    {
     "data": {
      "text/plain": [
       "dict_values([100, 150])"
      ]
     },
     "execution_count": 14,
     "metadata": {},
     "output_type": "execute_result"
    }
   ],
   "source": [
    "fitness_dictionary.values()"
   ]
  },
  {
   "cell_type": "code",
   "execution_count": 15,
   "id": "9da23437-6015-48ce-9d87-5a923ea8f361",
   "metadata": {},
   "outputs": [
    {
     "data": {
      "text/plain": [
       "dict_keys"
      ]
     },
     "execution_count": 15,
     "metadata": {},
     "output_type": "execute_result"
    }
   ],
   "source": [
    "type(fitness_dictionary.keys())"
   ]
  },
  {
   "cell_type": "code",
   "execution_count": 18,
   "id": "ba97d67c-7ee6-40ad-b5ea-867d0d0bafcf",
   "metadata": {},
   "outputs": [
    {
     "data": {
      "text/plain": [
       "[100, 150]"
      ]
     },
     "execution_count": 18,
     "metadata": {},
     "output_type": "execute_result"
    }
   ],
   "source": [
    "list(fitness_dictionary.values())"
   ]
  },
  {
   "cell_type": "code",
   "execution_count": 19,
   "id": "bd4cacd5-939f-4298-b4c2-e7c71baff900",
   "metadata": {},
   "outputs": [],
   "source": [
    "fitness_dictionary[\"banana\"] = 200"
   ]
  },
  {
   "cell_type": "code",
   "execution_count": 20,
   "id": "4f2a70bc-6197-4365-b462-ce85b82883ec",
   "metadata": {},
   "outputs": [],
   "source": [
    "fitness_dictionary[\"melon\"] = 300"
   ]
  },
  {
   "cell_type": "code",
   "execution_count": 21,
   "id": "16bbea6c-9ac3-4b34-a715-93b54c5e7a1f",
   "metadata": {},
   "outputs": [
    {
     "data": {
      "text/plain": [
       "300"
      ]
     },
     "execution_count": 21,
     "metadata": {},
     "output_type": "execute_result"
    }
   ],
   "source": [
    "fitness_dictionary['melon']"
   ]
  },
  {
   "cell_type": "code",
   "execution_count": 25,
   "id": "f45fe108-d53c-42f1-be24-50e3ea887cc0",
   "metadata": {},
   "outputs": [
    {
     "data": {
      "text/plain": [
       "150"
      ]
     },
     "execution_count": 25,
     "metadata": {},
     "output_type": "execute_result"
    }
   ],
   "source": [
    "fitness_dictionary.get(\"apple\",0)"
   ]
  },
  {
   "cell_type": "code",
   "execution_count": 26,
   "id": "f116a67a-cf45-409f-bd69-2422140cf4df",
   "metadata": {},
   "outputs": [
    {
     "data": {
      "text/plain": [
       "0"
      ]
     },
     "execution_count": 26,
     "metadata": {},
     "output_type": "execute_result"
    }
   ],
   "source": [
    "fitness_dictionary.get(\"appl\",0)"
   ]
  },
  {
   "cell_type": "code",
   "execution_count": 27,
   "id": "65c9ae66-4a93-4886-a996-256eb56038cd",
   "metadata": {},
   "outputs": [],
   "source": [
    "my_dictionary = {100: \"a\",\n",
    "                 200: \"b\",\n",
    "                 300: \"c\"}"
   ]
  },
  {
   "cell_type": "code",
   "execution_count": 28,
   "id": "862a33d5-2f54-4d73-b6b1-35ad2dcd4840",
   "metadata": {},
   "outputs": [
    {
     "data": {
      "text/plain": [
       "'a'"
      ]
     },
     "execution_count": 28,
     "metadata": {},
     "output_type": "execute_result"
    }
   ],
   "source": [
    "my_dictionary[100]"
   ]
  },
  {
   "cell_type": "code",
   "execution_count": 29,
   "id": "9aa118c6-0476-4b69-b06a-c927bdd3d829",
   "metadata": {},
   "outputs": [
    {
     "data": {
      "text/plain": [
       "'b'"
      ]
     },
     "execution_count": 29,
     "metadata": {},
     "output_type": "execute_result"
    }
   ],
   "source": [
    "my_dictionary[200]"
   ]
  },
  {
   "cell_type": "code",
   "execution_count": 30,
   "id": "6b40701c-6753-4ef9-888e-08b7c1c9dc4f",
   "metadata": {},
   "outputs": [],
   "source": [
    "my_dictionary = {\"key1\" : \"value1\",\n",
    "                 \"key2\" : \"value2\",\n",
    "                 \"key3\" : \"value3\"}"
   ]
  },
  {
   "cell_type": "code",
   "execution_count": 31,
   "id": "3d630912-8de4-47c7-b03a-821e5475e84c",
   "metadata": {},
   "outputs": [
    {
     "data": {
      "text/plain": [
       "'value1'"
      ]
     },
     "execution_count": 31,
     "metadata": {},
     "output_type": "execute_result"
    }
   ],
   "source": [
    "my_dictionary[\"key1\"]"
   ]
  },
  {
   "cell_type": "code",
   "execution_count": 32,
   "id": "2289126b-a80b-4d20-9de4-2e57374a8dca",
   "metadata": {},
   "outputs": [
    {
     "data": {
      "text/plain": [
       "'value2'"
      ]
     },
     "execution_count": 32,
     "metadata": {},
     "output_type": "execute_result"
    }
   ],
   "source": [
    "my_dictionary[\"key2\"]"
   ]
  },
  {
   "cell_type": "code",
   "execution_count": 33,
   "id": "87995d1b-b8d1-48a9-bad0-dd4402f2f6bb",
   "metadata": {},
   "outputs": [],
   "source": [
    "my_mixed_dictionary = {\"key1\" : 100, \"key2\" : 3.14, \"key3\" : [10,20,30]} "
   ]
  },
  {
   "cell_type": "code",
   "execution_count": 34,
   "id": "fee160dc-c6b5-4e70-9b8c-be3aaf14625c",
   "metadata": {},
   "outputs": [
    {
     "data": {
      "text/plain": [
       "[10, 20, 30]"
      ]
     },
     "execution_count": 34,
     "metadata": {},
     "output_type": "execute_result"
    }
   ],
   "source": [
    "my_mixed_dictionary[\"key3\"]"
   ]
  },
  {
   "cell_type": "code",
   "execution_count": 35,
   "id": "74372bec-54e2-499d-941b-4310b91e7e10",
   "metadata": {},
   "outputs": [
    {
     "data": {
      "text/plain": [
       "20"
      ]
     },
     "execution_count": 35,
     "metadata": {},
     "output_type": "execute_result"
    }
   ],
   "source": [
    "my_mixed_dictionary[\"key3\"][1]"
   ]
  },
  {
   "cell_type": "code",
   "execution_count": 36,
   "id": "fec65ba0-dae0-43ea-a14c-ccb0bfa4cbf5",
   "metadata": {},
   "outputs": [],
   "source": [
    "last_dictionary = {\"k1\" : 10,\n",
    "                   \"k2\" : [10,20,30,40,50], \n",
    "                   \"k3\" : \"string\",\n",
    "                   \"k4\" : {\"a\" : 100,\n",
    "                           \"b\" : 200}}"
   ]
  },
  {
   "cell_type": "code",
   "execution_count": 37,
   "id": "00216c37-cdd5-478a-a7de-c0183c2a8fff",
   "metadata": {},
   "outputs": [
    {
     "data": {
      "text/plain": [
       "200"
      ]
     },
     "execution_count": 37,
     "metadata": {},
     "output_type": "execute_result"
    }
   ],
   "source": [
    "last_dictionary[\"k4\"][\"b\"]"
   ]
  },
  {
   "cell_type": "code",
   "execution_count": 38,
   "id": "0a68cfff-ee38-4c58-90b8-c43ff51c3510",
   "metadata": {},
   "outputs": [
    {
     "data": {
      "text/plain": [
       "40"
      ]
     },
     "execution_count": 38,
     "metadata": {},
     "output_type": "execute_result"
    }
   ],
   "source": [
    "last_dictionary[\"k2\"][3]"
   ]
  },
  {
   "cell_type": "code",
   "execution_count": null,
   "id": "f7fd4085-9169-40d8-9c87-1db6d68bd3de",
   "metadata": {},
   "outputs": [],
   "source": []
  }
 ],
 "metadata": {
  "kernelspec": {
   "display_name": "Python [conda env:base] *",
   "language": "python",
   "name": "conda-base-py"
  },
  "language_info": {
   "codemirror_mode": {
    "name": "ipython",
    "version": 3
   },
   "file_extension": ".py",
   "mimetype": "text/x-python",
   "name": "python",
   "nbconvert_exporter": "python",
   "pygments_lexer": "ipython3",
   "version": "3.11.7"
  }
 },
 "nbformat": 4,
 "nbformat_minor": 5
}
