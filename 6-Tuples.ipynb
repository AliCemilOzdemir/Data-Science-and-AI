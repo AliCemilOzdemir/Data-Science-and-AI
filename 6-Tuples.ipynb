{
 "cells": [
  {
   "cell_type": "code",
   "execution_count": 1,
   "id": "61963902-f09f-49e7-a281-10b2fe44512c",
   "metadata": {},
   "outputs": [],
   "source": [
    "myList = [10,\"a\",\"b\",3.14]"
   ]
  },
  {
   "cell_type": "code",
   "execution_count": 2,
   "id": "a2cae48b-f54a-4281-b808-3546b8fed865",
   "metadata": {},
   "outputs": [
    {
     "data": {
      "text/plain": [
       "10"
      ]
     },
     "execution_count": 2,
     "metadata": {},
     "output_type": "execute_result"
    }
   ],
   "source": [
    "myList[0]"
   ]
  },
  {
   "cell_type": "code",
   "execution_count": 3,
   "id": "73bb1939-621a-43de-811c-5297fe031a83",
   "metadata": {},
   "outputs": [],
   "source": [
    "myList[0] = 100"
   ]
  },
  {
   "cell_type": "code",
   "execution_count": 4,
   "id": "56fab9b9-7e52-444e-afd6-88a8cdca32d4",
   "metadata": {},
   "outputs": [
    {
     "data": {
      "text/plain": [
       "[100, 'a', 'b', 3.14]"
      ]
     },
     "execution_count": 4,
     "metadata": {},
     "output_type": "execute_result"
    }
   ],
   "source": [
    "myList"
   ]
  },
  {
   "cell_type": "code",
   "execution_count": 5,
   "id": "80b75e8f-dd50-4bbc-94da-e656fd1cc7f8",
   "metadata": {},
   "outputs": [],
   "source": [
    "myTuple = (10,\"a\",\"b\",3.14)"
   ]
  },
  {
   "cell_type": "code",
   "execution_count": 6,
   "id": "993c8b0a-79b3-4853-b209-a4493eafd9ba",
   "metadata": {},
   "outputs": [
    {
     "data": {
      "text/plain": [
       "(10, 'a', 'b', 3.14)"
      ]
     },
     "execution_count": 6,
     "metadata": {},
     "output_type": "execute_result"
    }
   ],
   "source": [
    "myTuple"
   ]
  },
  {
   "cell_type": "code",
   "execution_count": 7,
   "id": "786031dd-f0ce-4f7e-9318-2198d9b0c474",
   "metadata": {},
   "outputs": [
    {
     "data": {
      "text/plain": [
       "tuple"
      ]
     },
     "execution_count": 7,
     "metadata": {},
     "output_type": "execute_result"
    }
   ],
   "source": [
    "type(myTuple)"
   ]
  },
  {
   "cell_type": "code",
   "execution_count": 8,
   "id": "90f06424-256f-409f-8acc-99c49ce03057",
   "metadata": {},
   "outputs": [
    {
     "data": {
      "text/plain": [
       "10"
      ]
     },
     "execution_count": 8,
     "metadata": {},
     "output_type": "execute_result"
    }
   ],
   "source": [
    "myTuple[0]"
   ]
  },
  {
   "cell_type": "code",
   "execution_count": 9,
   "id": "9d177998-4715-41f6-92a5-8c338c1e430f",
   "metadata": {},
   "outputs": [],
   "source": [
    "# Tuple immutable"
   ]
  },
  {
   "cell_type": "code",
   "execution_count": 10,
   "id": "0458dd4d-b112-4347-bfa5-65af0bf3f101",
   "metadata": {},
   "outputs": [
    {
     "data": {
      "text/plain": [
       "(10, 'a', 'b', 3.14)"
      ]
     },
     "execution_count": 10,
     "metadata": {},
     "output_type": "execute_result"
    }
   ],
   "source": [
    "myTuple"
   ]
  },
  {
   "cell_type": "code",
   "execution_count": 15,
   "id": "5b1a733b-6749-469e-aea7-846f376a57d2",
   "metadata": {},
   "outputs": [
    {
     "data": {
      "text/plain": [
       "2"
      ]
     },
     "execution_count": 15,
     "metadata": {},
     "output_type": "execute_result"
    }
   ],
   "source": [
    "myTuple.index(\"b\")"
   ]
  },
  {
   "cell_type": "code",
   "execution_count": 16,
   "id": "bd63f48a-438b-45e2-9c2d-b611ec9a1492",
   "metadata": {},
   "outputs": [
    {
     "data": {
      "text/plain": [
       "1"
      ]
     },
     "execution_count": 16,
     "metadata": {},
     "output_type": "execute_result"
    }
   ],
   "source": [
    "myTuple.count(\"a\")"
   ]
  },
  {
   "cell_type": "code",
   "execution_count": 21,
   "id": "6de9c92d-24e4-449d-8a5f-7536109c1fac",
   "metadata": {},
   "outputs": [
    {
     "data": {
      "text/plain": [
       "(10, 100, 20)"
      ]
     },
     "execution_count": 21,
     "metadata": {},
     "output_type": "execute_result"
    }
   ],
   "source": [
    "resultTuple = (10,100,20)\n",
    "resultTuple"
   ]
  },
  {
   "cell_type": "code",
   "execution_count": 22,
   "id": "8f636067-8a28-4189-bf13-a252c05a7461",
   "metadata": {},
   "outputs": [],
   "source": [
    "resultList = list(resultTuple)"
   ]
  },
  {
   "cell_type": "code",
   "execution_count": 23,
   "id": "23ca46eb-3cd7-4630-87de-60f20b7655e0",
   "metadata": {},
   "outputs": [
    {
     "data": {
      "text/plain": [
       "(10, 100, 20)"
      ]
     },
     "execution_count": 23,
     "metadata": {},
     "output_type": "execute_result"
    }
   ],
   "source": [
    "resultTuple"
   ]
  },
  {
   "cell_type": "code",
   "execution_count": 24,
   "id": "ca0675b0-3585-4741-9c07-4992312fa599",
   "metadata": {},
   "outputs": [
    {
     "data": {
      "text/plain": [
       "[10, 100, 20]"
      ]
     },
     "execution_count": 24,
     "metadata": {},
     "output_type": "execute_result"
    }
   ],
   "source": [
    "resultList"
   ]
  },
  {
   "cell_type": "code",
   "execution_count": null,
   "id": "d9af07b6-9b3f-4bd1-8ca0-e9a536fce1da",
   "metadata": {},
   "outputs": [],
   "source": []
  }
 ],
 "metadata": {
  "kernelspec": {
   "display_name": "Python [conda env:base] *",
   "language": "python",
   "name": "conda-base-py"
  },
  "language_info": {
   "codemirror_mode": {
    "name": "ipython",
    "version": 3
   },
   "file_extension": ".py",
   "mimetype": "text/x-python",
   "name": "python",
   "nbconvert_exporter": "python",
   "pygments_lexer": "ipython3",
   "version": "3.11.7"
  }
 },
 "nbformat": 4,
 "nbformat_minor": 5
}
