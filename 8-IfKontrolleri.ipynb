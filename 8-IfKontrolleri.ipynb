{
 "cells": [
  {
   "cell_type": "code",
   "execution_count": 1,
   "id": "40a3f475-e08a-46b6-984e-0f3043762201",
   "metadata": {},
   "outputs": [],
   "source": [
    "x = 5\n",
    "y = 2"
   ]
  },
  {
   "cell_type": "code",
   "execution_count": 2,
   "id": "9a2ebb02-4edb-4055-af90-4593f9f1a191",
   "metadata": {},
   "outputs": [
    {
     "data": {
      "text/plain": [
       "True"
      ]
     },
     "execution_count": 2,
     "metadata": {},
     "output_type": "execute_result"
    }
   ],
   "source": [
    "x > y"
   ]
  },
  {
   "cell_type": "code",
   "execution_count": 3,
   "id": "066b3461-02d0-4714-90a0-bed75a0d1e39",
   "metadata": {},
   "outputs": [
    {
     "data": {
      "text/plain": [
       "False"
      ]
     },
     "execution_count": 3,
     "metadata": {},
     "output_type": "execute_result"
    }
   ],
   "source": [
    "x<y"
   ]
  },
  {
   "cell_type": "code",
   "execution_count": 4,
   "id": "c3254038-b9cd-4fc5-a14d-fa7bacc20194",
   "metadata": {},
   "outputs": [
    {
     "data": {
      "text/plain": [
       "True"
      ]
     },
     "execution_count": 4,
     "metadata": {},
     "output_type": "execute_result"
    }
   ],
   "source": [
    "y<x"
   ]
  },
  {
   "cell_type": "code",
   "execution_count": 5,
   "id": "f9000c50-1ae9-43ea-a06d-fe05d1c305a6",
   "metadata": {},
   "outputs": [],
   "source": [
    "y= 5"
   ]
  },
  {
   "cell_type": "code",
   "execution_count": 6,
   "id": "d9503254-db90-4478-b00e-6f2e43bac28f",
   "metadata": {},
   "outputs": [
    {
     "data": {
      "text/plain": [
       "True"
      ]
     },
     "execution_count": 6,
     "metadata": {},
     "output_type": "execute_result"
    }
   ],
   "source": [
    "x>=y"
   ]
  },
  {
   "cell_type": "code",
   "execution_count": 7,
   "id": "87e2de13-e783-46e7-b261-b1554fa6b74f",
   "metadata": {},
   "outputs": [
    {
     "data": {
      "text/plain": [
       "True"
      ]
     },
     "execution_count": 7,
     "metadata": {},
     "output_type": "execute_result"
    }
   ],
   "source": [
    "x<=y"
   ]
  },
  {
   "cell_type": "code",
   "execution_count": 8,
   "id": "7b7d6bdb-b205-4eea-b716-4307bc4af093",
   "metadata": {},
   "outputs": [
    {
     "data": {
      "text/plain": [
       "5"
      ]
     },
     "execution_count": 8,
     "metadata": {},
     "output_type": "execute_result"
    }
   ],
   "source": [
    "x"
   ]
  },
  {
   "cell_type": "code",
   "execution_count": 9,
   "id": "3a61b64f-b124-4508-b144-584e4c0c7416",
   "metadata": {},
   "outputs": [
    {
     "data": {
      "text/plain": [
       "5"
      ]
     },
     "execution_count": 9,
     "metadata": {},
     "output_type": "execute_result"
    }
   ],
   "source": [
    "y"
   ]
  },
  {
   "cell_type": "code",
   "execution_count": 10,
   "id": "6f85e94e-e13c-496f-8fd4-40077f16f666",
   "metadata": {},
   "outputs": [],
   "source": [
    "x=10"
   ]
  },
  {
   "cell_type": "code",
   "execution_count": 11,
   "id": "a9ba5d38-4f5f-49d0-b8cb-89a747dd8e5a",
   "metadata": {},
   "outputs": [],
   "source": [
    "y = 8"
   ]
  },
  {
   "cell_type": "code",
   "execution_count": 12,
   "id": "d6572ea9-5232-48e6-ac6c-9401de806cee",
   "metadata": {},
   "outputs": [
    {
     "data": {
      "text/plain": [
       "False"
      ]
     },
     "execution_count": 12,
     "metadata": {},
     "output_type": "execute_result"
    }
   ],
   "source": [
    "x == y"
   ]
  },
  {
   "cell_type": "code",
   "execution_count": 14,
   "id": "d4f9aaca-d7f7-421c-8c6c-e8d79a4fd9d2",
   "metadata": {},
   "outputs": [
    {
     "data": {
      "text/plain": [
       "True"
      ]
     },
     "execution_count": 14,
     "metadata": {},
     "output_type": "execute_result"
    }
   ],
   "source": [
    "x!= y"
   ]
  },
  {
   "cell_type": "code",
   "execution_count": 15,
   "id": "e1d82320-ff79-4def-8662-cca4cc5367a8",
   "metadata": {},
   "outputs": [
    {
     "data": {
      "text/plain": [
       "False"
      ]
     },
     "execution_count": 15,
     "metadata": {},
     "output_type": "execute_result"
    }
   ],
   "source": [
    "2<1 and 3>2"
   ]
  },
  {
   "cell_type": "code",
   "execution_count": 16,
   "id": "649f070e-e3f8-4fae-9b6f-bfbec57a6ec8",
   "metadata": {},
   "outputs": [
    {
     "data": {
      "text/plain": [
       "True"
      ]
     },
     "execution_count": 16,
     "metadata": {},
     "output_type": "execute_result"
    }
   ],
   "source": [
    "True and True"
   ]
  },
  {
   "cell_type": "code",
   "execution_count": 17,
   "id": "5c973874-8b5a-439c-8fa9-a696b9b94225",
   "metadata": {},
   "outputs": [
    {
     "data": {
      "text/plain": [
       "False"
      ]
     },
     "execution_count": 17,
     "metadata": {},
     "output_type": "execute_result"
    }
   ],
   "source": [
    "False and True"
   ]
  },
  {
   "cell_type": "code",
   "execution_count": 18,
   "id": "bb7210dd-22fd-40c6-8848-23c61de344a2",
   "metadata": {},
   "outputs": [
    {
     "data": {
      "text/plain": [
       "True"
      ]
     },
     "execution_count": 18,
     "metadata": {},
     "output_type": "execute_result"
    }
   ],
   "source": [
    "False or True"
   ]
  },
  {
   "cell_type": "code",
   "execution_count": 19,
   "id": "b5eaf03b-fe52-424e-aaea-b3b6aa307cb1",
   "metadata": {},
   "outputs": [
    {
     "data": {
      "text/plain": [
       "True"
      ]
     },
     "execution_count": 19,
     "metadata": {},
     "output_type": "execute_result"
    }
   ],
   "source": [
    "2>1 or 3<2"
   ]
  },
  {
   "cell_type": "code",
   "execution_count": 20,
   "id": "fe2e9fd0-d00a-4008-962b-02cf1c0000b7",
   "metadata": {},
   "outputs": [
    {
     "data": {
      "text/plain": [
       "False"
      ]
     },
     "execution_count": 20,
     "metadata": {},
     "output_type": "execute_result"
    }
   ],
   "source": [
    "1>2 or 3<2"
   ]
  },
  {
   "cell_type": "code",
   "execution_count": 21,
   "id": "e68518c4-5a54-4ac5-8176-617ad0a962d1",
   "metadata": {},
   "outputs": [
    {
     "data": {
      "text/plain": [
       "False"
      ]
     },
     "execution_count": 21,
     "metadata": {},
     "output_type": "execute_result"
    }
   ],
   "source": [
    "not 1 == 1"
   ]
  },
  {
   "cell_type": "code",
   "execution_count": 22,
   "id": "53c05372-6428-4498-a32d-600d9636e2d2",
   "metadata": {},
   "outputs": [
    {
     "data": {
      "text/plain": [
       "True"
      ]
     },
     "execution_count": 22,
     "metadata": {},
     "output_type": "execute_result"
    }
   ],
   "source": [
    "10 in [10,20,30]"
   ]
  },
  {
   "cell_type": "code",
   "execution_count": 23,
   "id": "74880ea9-ef80-433d-8496-4fdab619513f",
   "metadata": {},
   "outputs": [
    {
     "data": {
      "text/plain": [
       "False"
      ]
     },
     "execution_count": 23,
     "metadata": {},
     "output_type": "execute_result"
    }
   ],
   "source": [
    "10 not in [10,20,30]"
   ]
  },
  {
   "cell_type": "code",
   "execution_count": 25,
   "id": "1d34faae-3fce-4833-85c5-206e5e416484",
   "metadata": {},
   "outputs": [],
   "source": [
    "my_dictionary = {\"a\" : 10, \"b\" : 20 , \"c\":30}"
   ]
  },
  {
   "cell_type": "code",
   "execution_count": 26,
   "id": "3033272f-4302-4f30-b7d9-4094ab1179b6",
   "metadata": {},
   "outputs": [
    {
     "data": {
      "text/plain": [
       "True"
      ]
     },
     "execution_count": 26,
     "metadata": {},
     "output_type": "execute_result"
    }
   ],
   "source": [
    "10 in my_dictionary.values()"
   ]
  },
  {
   "cell_type": "code",
   "execution_count": 27,
   "id": "275c2058-1c1b-45fe-8857-9b73587dde05",
   "metadata": {},
   "outputs": [
    {
     "data": {
      "text/plain": [
       "True"
      ]
     },
     "execution_count": 27,
     "metadata": {},
     "output_type": "execute_result"
    }
   ],
   "source": [
    "\"a\" in my_dictionary.keys()"
   ]
  },
  {
   "cell_type": "code",
   "execution_count": 28,
   "id": "0d9df4f7-722f-4205-8890-1e6c61731a4f",
   "metadata": {},
   "outputs": [],
   "source": [
    "my_superhero = \"batman\""
   ]
  },
  {
   "cell_type": "code",
   "execution_count": 29,
   "id": "e441ed94-19ec-4406-ad57-22b23212154a",
   "metadata": {},
   "outputs": [
    {
     "data": {
      "text/plain": [
       "True"
      ]
     },
     "execution_count": 29,
     "metadata": {},
     "output_type": "execute_result"
    }
   ],
   "source": [
    "my_superhero == \"batman\""
   ]
  },
  {
   "cell_type": "code",
   "execution_count": 32,
   "id": "a6a8484d-eeb0-401b-8b26-f8d4bb4bfbbf",
   "metadata": {},
   "outputs": [
    {
     "name": "stdout",
     "output_type": "stream",
     "text": [
      "batman,\n",
      "ali cemil ozdemir\n",
      "bu if'ten alakasiz\n"
     ]
    }
   ],
   "source": [
    "if my_superhero == \"batman\":\n",
    "    print(\"batman,\")\n",
    "    print(\"ali cemil ozdemir\")\n",
    "print(\"bu if'ten alakasiz\")"
   ]
  },
  {
   "cell_type": "code",
   "execution_count": 33,
   "id": "fe21d8ca-0d40-4772-9912-cd808574d818",
   "metadata": {},
   "outputs": [
    {
     "name": "stdout",
     "output_type": "stream",
     "text": [
      "bu if'ten alakasiz\n"
     ]
    }
   ],
   "source": [
    "if my_superhero == \"superman\":\n",
    "    print(\"batman,\")\n",
    "    print(\"ali cemil ozdemir\")\n",
    "print(\"bu if'ten alakasiz\")"
   ]
  },
  {
   "cell_type": "code",
   "execution_count": 34,
   "id": "0905f93d-871c-49e4-876b-d459de6a253a",
   "metadata": {},
   "outputs": [
    {
     "name": "stdout",
     "output_type": "stream",
     "text": [
      "3>2\n"
     ]
    }
   ],
   "source": [
    "if 3>2:\n",
    "    print(\"3>2\")"
   ]
  },
  {
   "cell_type": "code",
   "execution_count": 38,
   "id": "306f5964-3495-4e50-8826-dee3674e5097",
   "metadata": {},
   "outputs": [
    {
     "name": "stdin",
     "output_type": "stream",
     "text": [
      "enter superhero:  wondarwoman\n"
     ]
    }
   ],
   "source": [
    "my_superhero = input(\"enter superhero: \")"
   ]
  },
  {
   "cell_type": "code",
   "execution_count": 39,
   "id": "9286d873-f5f8-43dc-8a59-4147c52c1599",
   "metadata": {},
   "outputs": [
    {
     "name": "stdout",
     "output_type": "stream",
     "text": [
      " :( \n"
     ]
    }
   ],
   "source": [
    "if my_superhero == \"superman\":\n",
    "    print(\"Superman\")\n",
    "elif my_superhero == \"batman\":\n",
    "    print(\"batman\")\n",
    "elif my_superhero == \"aquaman\":\n",
    "    print(\"aquaman\")\n",
    "else:\n",
    "    print(\" :( \")"
   ]
  },
  {
   "cell_type": "code",
   "execution_count": 46,
   "id": "ee6092cb-8b45-44ee-8d9c-69701df5c46c",
   "metadata": {},
   "outputs": [],
   "source": [
    "my_age = 20"
   ]
  },
  {
   "cell_type": "code",
   "execution_count": 47,
   "id": "601332b3-43e6-400e-a662-5d7356c835ac",
   "metadata": {},
   "outputs": [
    {
     "name": "stdout",
     "output_type": "stream",
     "text": [
      "18 - age - 35\n"
     ]
    }
   ],
   "source": [
    "if my_age <= 18:\n",
    "    print(\"age <= 18\")\n",
    "elif my_age > 18 and my_age <= 35:\n",
    "    print(\"18 - age - 35\")\n",
    "elif my_age > 35 and my_age<=40:\n",
    "    print(\"35-age-40\")\n",
    "else:\n",
    "    print(\"age>40\")"
   ]
  },
  {
   "cell_type": "code",
   "execution_count": 51,
   "id": "2ec37fb8-306d-4cbc-a139-1d25f1e5d98b",
   "metadata": {},
   "outputs": [
    {
     "name": "stdin",
     "output_type": "stream",
     "text": [
      "enter superhero:  hjhb\n"
     ]
    }
   ],
   "source": [
    "my_superhero = input(\"enter superhero: \")"
   ]
  },
  {
   "cell_type": "code",
   "execution_count": 52,
   "id": "5741dd50-a7fc-407f-b5f3-8829fd3bd807",
   "metadata": {},
   "outputs": [],
   "source": [
    "my_superhero_list = [\"Spider Man\",\"Iron Man\",\"Thor\",\"Black Widow\"]"
   ]
  },
  {
   "cell_type": "code",
   "execution_count": 53,
   "id": "cae0a570-ae73-4881-a7ba-0023df89a9c6",
   "metadata": {},
   "outputs": [
    {
     "name": "stdout",
     "output_type": "stream",
     "text": [
      ":(\n"
     ]
    }
   ],
   "source": [
    "if my_superhero in my_superhero_list :\n",
    "    print(\":)\")\n",
    "\n",
    "else:\n",
    "    print(\":(\")"
   ]
  },
  {
   "cell_type": "code",
   "execution_count": null,
   "id": "1e9efb7a-ba95-40b4-89a9-00e32dfbbbc2",
   "metadata": {},
   "outputs": [],
   "source": []
  }
 ],
 "metadata": {
  "kernelspec": {
   "display_name": "Python [conda env:base] *",
   "language": "python",
   "name": "conda-base-py"
  },
  "language_info": {
   "codemirror_mode": {
    "name": "ipython",
    "version": 3
   },
   "file_extension": ".py",
   "mimetype": "text/x-python",
   "name": "python",
   "nbconvert_exporter": "python",
   "pygments_lexer": "ipython3",
   "version": "3.11.7"
  }
 },
 "nbformat": 4,
 "nbformat_minor": 5
}
